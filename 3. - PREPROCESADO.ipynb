{
 "cells": [
  {
   "cell_type": "markdown",
   "metadata": {},
   "source": [
    "# Preprocesamiento"
   ]
  },
  {
   "cell_type": "markdown",
   "metadata": {},
   "source": [
    "En esta etapa se toman decisiones en línea con las estadísticas y análisis con tal de  preparar correctamente los datos que serán parte del entrenamiento y posterior validación de los modelos de predicción."
   ]
  },
  {
   "cell_type": "code",
   "execution_count": 2,
   "metadata": {},
   "outputs": [],
   "source": [
    "%matplotlib inline\n",
    "import pandas as pd\n",
    "import matplotlib.pyplot as plt\n",
    "from matplotlib import rcParams\n",
    "from nilmtk import DataSet\n",
    "import warnings\n",
    "from nilmtk import TimeFrame\n",
    "warnings. filterwarnings(\"ignore\")\n",
    "plt.style.use('bmh')\n",
    "\n"
   ]
  },
  {
   "cell_type": "code",
   "execution_count": 3,
   "metadata": {},
   "outputs": [],
   "source": [
    "#dataset de referencia DSUALM\n",
    "deps = DataSet('dsual.h5')\n",
    "\n",
    "elec=deps.buildings[1].elec # Todos los medidores\n",
    "\n",
    "labels = pd.DataFrame({'Instances': list(range(1,8)),\n",
    "                       'Meters': ['Main', 'Boliler', 'Fan', 'Freezer', 'Television','Vacuum Cleaner', 'Light']})\n",
    "Meters={}\n",
    "for x in range(len(labels)): Meters[elec[x+1]]=labels['Meters'][x]"
   ]
  },
  {
   "cell_type": "markdown",
   "metadata": {},
   "source": [
    "## Cambio en el muestreo de datos e interpolación"
   ]
  },
  {
   "cell_type": "markdown",
   "metadata": {},
   "source": [
    "### Ejemplo seccion faltante"
   ]
  },
  {
   "cell_type": "code",
   "execution_count": 4,
   "metadata": {},
   "outputs": [
    {
     "data": {
      "text/plain": [
       "TimeFrame(start='2021-11-10 18:08:48+01:00', end='2021-11-10 20:49:17+01:00', empty=False)"
      ]
     },
     "execution_count": 4,
     "metadata": {},
     "output_type": "execute_result"
    }
   ],
   "source": [
    "tf=elec[1].good_sections(full_results=True).combined()[0]\n",
    "tf"
   ]
  },
  {
   "cell_type": "markdown",
   "metadata": {},
   "source": [
    "Muestreo cada 10 segundos, promediando datos"
   ]
  },
  {
   "cell_type": "code",
   "execution_count": 5,
   "metadata": {},
   "outputs": [
    {
     "data": {
      "text/html": [
       "<div>\n",
       "<style scoped>\n",
       "    .dataframe tbody tr th:only-of-type {\n",
       "        vertical-align: middle;\n",
       "    }\n",
       "\n",
       "    .dataframe tbody tr th {\n",
       "        vertical-align: top;\n",
       "    }\n",
       "\n",
       "    .dataframe thead tr th {\n",
       "        text-align: left;\n",
       "    }\n",
       "</style>\n",
       "<table border=\"1\" class=\"dataframe\">\n",
       "  <thead>\n",
       "    <tr>\n",
       "      <th>physical_quantity</th>\n",
       "      <th>power</th>\n",
       "      <th>current</th>\n",
       "      <th>pf</th>\n",
       "      <th>frequency</th>\n",
       "      <th>voltage</th>\n",
       "      <th colspan=\"2\" halign=\"left\">power</th>\n",
       "    </tr>\n",
       "    <tr>\n",
       "      <th>type</th>\n",
       "      <th>reactive</th>\n",
       "      <th></th>\n",
       "      <th></th>\n",
       "      <th></th>\n",
       "      <th></th>\n",
       "      <th>active</th>\n",
       "      <th>apparent</th>\n",
       "    </tr>\n",
       "  </thead>\n",
       "  <tbody>\n",
       "    <tr>\n",
       "      <th>2021-11-10 18:08:40+01:00</th>\n",
       "      <td>-1308.737061</td>\n",
       "      <td>7.308249</td>\n",
       "      <td>0.488543</td>\n",
       "      <td>50.003342</td>\n",
       "      <td>238.066040</td>\n",
       "      <td>906.642273</td>\n",
       "      <td>1595.331055</td>\n",
       "    </tr>\n",
       "    <tr>\n",
       "      <th>2021-11-10 18:08:50+01:00</th>\n",
       "      <td>-2171.558838</td>\n",
       "      <td>10.717772</td>\n",
       "      <td>0.519751</td>\n",
       "      <td>50.008118</td>\n",
       "      <td>237.821381</td>\n",
       "      <td>1324.798828</td>\n",
       "      <td>2543.769531</td>\n",
       "    </tr>\n",
       "    <tr>\n",
       "      <th>2021-11-10 18:09:00+01:00</th>\n",
       "      <td>-2161.488525</td>\n",
       "      <td>10.667108</td>\n",
       "      <td>0.519446</td>\n",
       "      <td>50.023872</td>\n",
       "      <td>237.794403</td>\n",
       "      <td>1317.614990</td>\n",
       "      <td>2531.431152</td>\n",
       "    </tr>\n",
       "    <tr>\n",
       "      <th>2021-11-10 18:09:10+01:00</th>\n",
       "      <td>-2160.563721</td>\n",
       "      <td>10.655470</td>\n",
       "      <td>0.518934</td>\n",
       "      <td>50.032406</td>\n",
       "      <td>237.860901</td>\n",
       "      <td>1315.249634</td>\n",
       "      <td>2529.410889</td>\n",
       "    </tr>\n",
       "    <tr>\n",
       "      <th>2021-11-10 18:09:20+01:00</th>\n",
       "      <td>-2161.219482</td>\n",
       "      <td>10.648204</td>\n",
       "      <td>0.517473</td>\n",
       "      <td>50.035877</td>\n",
       "      <td>237.841766</td>\n",
       "      <td>1310.546387</td>\n",
       "      <td>2527.528809</td>\n",
       "    </tr>\n",
       "    <tr>\n",
       "      <th>...</th>\n",
       "      <td>...</td>\n",
       "      <td>...</td>\n",
       "      <td>...</td>\n",
       "      <td>...</td>\n",
       "      <td>...</td>\n",
       "      <td>...</td>\n",
       "      <td>...</td>\n",
       "    </tr>\n",
       "    <tr>\n",
       "      <th>2021-11-10 20:48:30+01:00</th>\n",
       "      <td>2.145291</td>\n",
       "      <td>0.028012</td>\n",
       "      <td>0.467569</td>\n",
       "      <td>50.024227</td>\n",
       "      <td>240.344788</td>\n",
       "      <td>3.138000</td>\n",
       "      <td>3.832521</td>\n",
       "    </tr>\n",
       "    <tr>\n",
       "      <th>2021-11-10 20:48:40+01:00</th>\n",
       "      <td>2.250295</td>\n",
       "      <td>0.028236</td>\n",
       "      <td>0.467536</td>\n",
       "      <td>50.027588</td>\n",
       "      <td>240.448044</td>\n",
       "      <td>3.173170</td>\n",
       "      <td>3.906183</td>\n",
       "    </tr>\n",
       "    <tr>\n",
       "      <th>2021-11-10 20:48:50+01:00</th>\n",
       "      <td>2.287714</td>\n",
       "      <td>0.027557</td>\n",
       "      <td>0.483605</td>\n",
       "      <td>50.018597</td>\n",
       "      <td>240.421127</td>\n",
       "      <td>3.198426</td>\n",
       "      <td>3.945096</td>\n",
       "    </tr>\n",
       "    <tr>\n",
       "      <th>2021-11-10 20:49:00+01:00</th>\n",
       "      <td>2.230673</td>\n",
       "      <td>0.027878</td>\n",
       "      <td>0.489296</td>\n",
       "      <td>50.025021</td>\n",
       "      <td>240.417679</td>\n",
       "      <td>3.272669</td>\n",
       "      <td>3.981528</td>\n",
       "    </tr>\n",
       "    <tr>\n",
       "      <th>2021-11-10 20:49:10+01:00</th>\n",
       "      <td>2.166878</td>\n",
       "      <td>0.028704</td>\n",
       "      <td>0.478156</td>\n",
       "      <td>50.031742</td>\n",
       "      <td>240.330750</td>\n",
       "      <td>3.290043</td>\n",
       "      <td>3.959520</td>\n",
       "    </tr>\n",
       "  </tbody>\n",
       "</table>\n",
       "<p>964 rows × 7 columns</p>\n",
       "</div>"
      ],
      "text/plain": [
       "physical_quantity                power    current        pf  frequency  \\\n",
       "type                          reactive                                   \n",
       "2021-11-10 18:08:40+01:00 -1308.737061   7.308249  0.488543  50.003342   \n",
       "2021-11-10 18:08:50+01:00 -2171.558838  10.717772  0.519751  50.008118   \n",
       "2021-11-10 18:09:00+01:00 -2161.488525  10.667108  0.519446  50.023872   \n",
       "2021-11-10 18:09:10+01:00 -2160.563721  10.655470  0.518934  50.032406   \n",
       "2021-11-10 18:09:20+01:00 -2161.219482  10.648204  0.517473  50.035877   \n",
       "...                                ...        ...       ...        ...   \n",
       "2021-11-10 20:48:30+01:00     2.145291   0.028012  0.467569  50.024227   \n",
       "2021-11-10 20:48:40+01:00     2.250295   0.028236  0.467536  50.027588   \n",
       "2021-11-10 20:48:50+01:00     2.287714   0.027557  0.483605  50.018597   \n",
       "2021-11-10 20:49:00+01:00     2.230673   0.027878  0.489296  50.025021   \n",
       "2021-11-10 20:49:10+01:00     2.166878   0.028704  0.478156  50.031742   \n",
       "\n",
       "physical_quantity             voltage        power               \n",
       "type                                        active     apparent  \n",
       "2021-11-10 18:08:40+01:00  238.066040   906.642273  1595.331055  \n",
       "2021-11-10 18:08:50+01:00  237.821381  1324.798828  2543.769531  \n",
       "2021-11-10 18:09:00+01:00  237.794403  1317.614990  2531.431152  \n",
       "2021-11-10 18:09:10+01:00  237.860901  1315.249634  2529.410889  \n",
       "2021-11-10 18:09:20+01:00  237.841766  1310.546387  2527.528809  \n",
       "...                               ...          ...          ...  \n",
       "2021-11-10 20:48:30+01:00  240.344788     3.138000     3.832521  \n",
       "2021-11-10 20:48:40+01:00  240.448044     3.173170     3.906183  \n",
       "2021-11-10 20:48:50+01:00  240.421127     3.198426     3.945096  \n",
       "2021-11-10 20:49:00+01:00  240.417679     3.272669     3.981528  \n",
       "2021-11-10 20:49:10+01:00  240.330750     3.290043     3.959520  \n",
       "\n",
       "[964 rows x 7 columns]"
      ]
     },
     "execution_count": 5,
     "metadata": {},
     "output_type": "execute_result"
    }
   ],
   "source": [
    "ta = '2021-11-10 18:08:00+01:00'\n",
    "tb = '2021-11-10 20:50:00+01:00'\n",
    "next(elec[1].load(sample_period=10, resample_kwargs={'fill_method':'ffill', 'how': 'mean'}))[ta:tb]"
   ]
  },
  {
   "cell_type": "markdown",
   "metadata": {},
   "source": [
    "Muestreo cada 10 segundos, usando el primer dato"
   ]
  },
  {
   "cell_type": "code",
   "execution_count": 6,
   "metadata": {},
   "outputs": [
    {
     "data": {
      "text/html": [
       "<div>\n",
       "<style scoped>\n",
       "    .dataframe tbody tr th:only-of-type {\n",
       "        vertical-align: middle;\n",
       "    }\n",
       "\n",
       "    .dataframe tbody tr th {\n",
       "        vertical-align: top;\n",
       "    }\n",
       "\n",
       "    .dataframe thead tr th {\n",
       "        text-align: left;\n",
       "    }\n",
       "</style>\n",
       "<table border=\"1\" class=\"dataframe\">\n",
       "  <thead>\n",
       "    <tr>\n",
       "      <th>physical_quantity</th>\n",
       "      <th>power</th>\n",
       "      <th>current</th>\n",
       "      <th>pf</th>\n",
       "      <th>frequency</th>\n",
       "      <th>voltage</th>\n",
       "      <th colspan=\"2\" halign=\"left\">power</th>\n",
       "    </tr>\n",
       "    <tr>\n",
       "      <th>type</th>\n",
       "      <th>reactive</th>\n",
       "      <th></th>\n",
       "      <th></th>\n",
       "      <th></th>\n",
       "      <th></th>\n",
       "      <th>active</th>\n",
       "      <th>apparent</th>\n",
       "    </tr>\n",
       "  </thead>\n",
       "  <tbody>\n",
       "    <tr>\n",
       "      <th>2021-11-10 18:08:40+01:00</th>\n",
       "      <td>-387.110199</td>\n",
       "      <td>3.031838</td>\n",
       "      <td>0.433111</td>\n",
       "      <td>50.003502</td>\n",
       "      <td>238.323669</td>\n",
       "      <td>309.806488</td>\n",
       "      <td>497.868561</td>\n",
       "    </tr>\n",
       "    <tr>\n",
       "      <th>2021-11-10 18:08:50+01:00</th>\n",
       "      <td>-2177.966064</td>\n",
       "      <td>10.737020</td>\n",
       "      <td>0.519002</td>\n",
       "      <td>50.003681</td>\n",
       "      <td>237.908798</td>\n",
       "      <td>1325.751953</td>\n",
       "      <td>2549.736328</td>\n",
       "    </tr>\n",
       "    <tr>\n",
       "      <th>2021-11-10 18:09:00+01:00</th>\n",
       "      <td>-2163.449951</td>\n",
       "      <td>10.678940</td>\n",
       "      <td>0.519680</td>\n",
       "      <td>50.016178</td>\n",
       "      <td>237.792191</td>\n",
       "      <td>1319.660034</td>\n",
       "      <td>2534.170654</td>\n",
       "    </tr>\n",
       "    <tr>\n",
       "      <th>2021-11-10 18:09:10+01:00</th>\n",
       "      <td>-2158.406006</td>\n",
       "      <td>10.648400</td>\n",
       "      <td>0.519590</td>\n",
       "      <td>50.031700</td>\n",
       "      <td>237.889999</td>\n",
       "      <td>1316.199951</td>\n",
       "      <td>2528.062256</td>\n",
       "    </tr>\n",
       "    <tr>\n",
       "      <th>2021-11-10 18:09:20+01:00</th>\n",
       "      <td>-2161.842041</td>\n",
       "      <td>10.654720</td>\n",
       "      <td>0.517675</td>\n",
       "      <td>50.033321</td>\n",
       "      <td>237.796402</td>\n",
       "      <td>1311.609985</td>\n",
       "      <td>2528.612793</td>\n",
       "    </tr>\n",
       "    <tr>\n",
       "      <th>...</th>\n",
       "      <td>...</td>\n",
       "      <td>...</td>\n",
       "      <td>...</td>\n",
       "      <td>...</td>\n",
       "      <td>...</td>\n",
       "      <td>...</td>\n",
       "      <td>...</td>\n",
       "    </tr>\n",
       "    <tr>\n",
       "      <th>2021-11-10 20:48:30+01:00</th>\n",
       "      <td>2.335686</td>\n",
       "      <td>0.027130</td>\n",
       "      <td>0.451781</td>\n",
       "      <td>50.017502</td>\n",
       "      <td>240.274002</td>\n",
       "      <td>2.941648</td>\n",
       "      <td>3.774932</td>\n",
       "    </tr>\n",
       "    <tr>\n",
       "      <th>2021-11-10 20:48:40+01:00</th>\n",
       "      <td>2.520816</td>\n",
       "      <td>0.027855</td>\n",
       "      <td>0.453919</td>\n",
       "      <td>50.029720</td>\n",
       "      <td>240.351410</td>\n",
       "      <td>3.036490</td>\n",
       "      <td>3.958235</td>\n",
       "    </tr>\n",
       "    <tr>\n",
       "      <th>2021-11-10 20:48:50+01:00</th>\n",
       "      <td>2.275950</td>\n",
       "      <td>0.029521</td>\n",
       "      <td>0.455358</td>\n",
       "      <td>50.021061</td>\n",
       "      <td>240.485397</td>\n",
       "      <td>3.223646</td>\n",
       "      <td>3.968148</td>\n",
       "    </tr>\n",
       "    <tr>\n",
       "      <th>2021-11-10 20:49:00+01:00</th>\n",
       "      <td>2.355356</td>\n",
       "      <td>0.027333</td>\n",
       "      <td>0.479606</td>\n",
       "      <td>50.019878</td>\n",
       "      <td>240.417007</td>\n",
       "      <td>3.151386</td>\n",
       "      <td>3.937321</td>\n",
       "    </tr>\n",
       "    <tr>\n",
       "      <th>2021-11-10 20:49:10+01:00</th>\n",
       "      <td>2.317918</td>\n",
       "      <td>0.026614</td>\n",
       "      <td>0.480896</td>\n",
       "      <td>50.030720</td>\n",
       "      <td>240.395401</td>\n",
       "      <td>3.080090</td>\n",
       "      <td>3.856614</td>\n",
       "    </tr>\n",
       "  </tbody>\n",
       "</table>\n",
       "<p>964 rows × 7 columns</p>\n",
       "</div>"
      ],
      "text/plain": [
       "physical_quantity                power    current        pf  frequency  \\\n",
       "type                          reactive                                   \n",
       "2021-11-10 18:08:40+01:00  -387.110199   3.031838  0.433111  50.003502   \n",
       "2021-11-10 18:08:50+01:00 -2177.966064  10.737020  0.519002  50.003681   \n",
       "2021-11-10 18:09:00+01:00 -2163.449951  10.678940  0.519680  50.016178   \n",
       "2021-11-10 18:09:10+01:00 -2158.406006  10.648400  0.519590  50.031700   \n",
       "2021-11-10 18:09:20+01:00 -2161.842041  10.654720  0.517675  50.033321   \n",
       "...                                ...        ...       ...        ...   \n",
       "2021-11-10 20:48:30+01:00     2.335686   0.027130  0.451781  50.017502   \n",
       "2021-11-10 20:48:40+01:00     2.520816   0.027855  0.453919  50.029720   \n",
       "2021-11-10 20:48:50+01:00     2.275950   0.029521  0.455358  50.021061   \n",
       "2021-11-10 20:49:00+01:00     2.355356   0.027333  0.479606  50.019878   \n",
       "2021-11-10 20:49:10+01:00     2.317918   0.026614  0.480896  50.030720   \n",
       "\n",
       "physical_quantity             voltage        power               \n",
       "type                                        active     apparent  \n",
       "2021-11-10 18:08:40+01:00  238.323669   309.806488   497.868561  \n",
       "2021-11-10 18:08:50+01:00  237.908798  1325.751953  2549.736328  \n",
       "2021-11-10 18:09:00+01:00  237.792191  1319.660034  2534.170654  \n",
       "2021-11-10 18:09:10+01:00  237.889999  1316.199951  2528.062256  \n",
       "2021-11-10 18:09:20+01:00  237.796402  1311.609985  2528.612793  \n",
       "...                               ...          ...          ...  \n",
       "2021-11-10 20:48:30+01:00  240.274002     2.941648     3.774932  \n",
       "2021-11-10 20:48:40+01:00  240.351410     3.036490     3.958235  \n",
       "2021-11-10 20:48:50+01:00  240.485397     3.223646     3.968148  \n",
       "2021-11-10 20:49:00+01:00  240.417007     3.151386     3.937321  \n",
       "2021-11-10 20:49:10+01:00  240.395401     3.080090     3.856614  \n",
       "\n",
       "[964 rows x 7 columns]"
      ]
     },
     "execution_count": 6,
     "metadata": {},
     "output_type": "execute_result"
    }
   ],
   "source": [
    "ta = '2021-11-10 18:08:00+01:00'\n",
    "tb = '2021-11-10 20:50:00+01:00'\n",
    "next(elec[1].load(sample_period=10, resample_kwargs={'fill_method':'ffill', 'how': 'first'}))[ta:tb]"
   ]
  },
  {
   "cell_type": "markdown",
   "metadata": {},
   "source": [
    "# Obtener los datos del medidor principal  cada 60 segundos.\n",
    "\n",
    "Además del parámetro sample_period=60, requerido para cambiar el muestreo a un minuto, se ha especificado como método (how) de cambio de muestreo el que provee NILMTK por defecto (mean). En el mismo diccionario resample_kwargs se ha especificado el parámetro fill_method el cual corresponderá al método elegido para rellenar los huecos. En este caso se especifica el método ffill el cual, ante un hueco, rellenará los datos faltantes hacia adelante con el valor inmediatamente anterior a la serie de tiempo"
   ]
  },
  {
   "cell_type": "code",
   "execution_count": 12,
   "metadata": {},
   "outputs": [
    {
     "data": {
      "image/png": "[encoded data removed]",
      "text/plain": [
       "<Figure size 720x432 with 4 Axes>"
      ]
     },
     "metadata": {
      "needs_background": "light"
     },
     "output_type": "display_data"
    }
   ],
   "source": [
    "rcParams['figure.figsize'] = (10, 6)\n",
    "\n",
    "ta = '2021-11-10 18:08:00+01:00'\n",
    "tb = '2021-11-10 20:50:00+01:00'\n",
    "\n",
    "\n",
    "Main=elec.select(instance=[1])\n",
    "fig, (ax4, ax1, ax2, ax3) = plt.subplots(4, 1, sharex=True,\n",
    "                                         gridspec_kw={'hspace': 0.5,'height_ratios':[1.5, 3, 3, 3]})\n",
    "\n",
    "elec[1].power_series_all_data()[ta:tb].plot(ax=ax1, color='tab:red', marker=\"o\", lw=1.5)\n",
    "ax1.minorticks_off()\n",
    "ax1.set_ylabel('W')\n",
    "ax1.set_title('b) Original sample - 1s', fontsize=12, loc='left')\n",
    "ax1.annotate(\"|11:56:25 = 277 W\", xy=('2021-11-10 18:08:00+01:00', 277.6),rotation=7)\n",
    "ax1.set_ylim(275,281)\n",
    "\n",
    "elec[1].power_series_all_data(sample_period=1, resample_kwargs={'fill_method': 'ffill'})[ta:tb].plot(ax=ax2, marker=\"o\", color='tab:red',lw=1.5)\n",
    "ax2.minorticks_off()\n",
    "ax2.set_ylabel('W')\n",
    "ax2.set_title('c) Resample: sample_period=1s, fill_method=ffill', fontsize=12, loc='left')\n",
    "ax2.annotate(\"|11:56:26 = 277 W\", xy=('2021-11-10 18:08:00+01:00', 277.6))\n",
    "ax2.set_ylim(275,281)\n",
    "\n",
    "elec[1].power_series_all_data(sample_period=4,resample_kwargs={'how': 'first'})[ta:tb].plot(ax=ax3, color='k', lw=1.5, ls='--', marker=\"o\",\n",
    "                                                           markersize=8, markerfacecolor='royalblue')\n",
    "elec[1].power_series_all_data(sample_period=4, resample_kwargs={'how': 'mean'})[ta:tb].plot(ax=ax3, color='k', lw=1.5, ls='--', marker=\"v\",\n",
    "                          markersize=8, markerfacecolor='y')\n",
    "ax3.minorticks_off()\n",
    "ax3.set_ylabel('W')\n",
    "ax3.set_title('d) Resample: sample_period=2s, fill_method=ffill', fontsize=12, loc='left')\n",
    "ax3.set_ylim(275,281)\n",
    "\n",
    "import matplotlib.lines as mlines\n",
    "line1 = mlines.Line2D([], [], lw=1, c='k', ls='--', marker=\"o\", markersize=6, markerfacecolor='royalblue', label='method=first')\n",
    "line2 = mlines.Line2D([], [], lw=1, c='k', ls='--', marker=\"v\", markersize=6, markerfacecolor='y', label='method=mean')\n",
    "ax3.legend(handles=[line2, line1], fontsize=10.5, ncol=2)\n",
    "ax4=Main.plot_good_sections(ax=ax4)\n",
    "ax4.set_yticklabels(list(Meters.values()))\n",
    "ax4.grid(axis='y')\n",
    "ax4.set_title('a) Good sections (blue color)', fontsize=12, loc='left')\n",
    "l=['11:56:20','11:56:25','11:56:30','11:56:35','11:56:40','11:56:45','11:56:50']\n",
    "ax4.set_xticklabels(l, rotation=30, ha='right')\n",
    "\n",
    "#guarda gráfico\n",
    "plt.savefig('./data/images/paso3/3.1_Prepros_1.svg', bbox_inches='tight', transparent=True)\n",
    "pass"
   ]
  },
  {
   "cell_type": "markdown",
   "metadata": {},
   "source": [
    "## Filtros de dispositivos eléctricos"
   ]
  },
  {
   "cell_type": "code",
   "execution_count": 13,
   "metadata": {},
   "outputs": [
    {
     "name": "stdout",
     "output_type": "stream",
     "text": [
      "6/6 ElecMeter(instance=7, building=1, dataset='DSUAL', appliances=[Appliance(type='light', instance=1)])ance=1)])"
     ]
    },
    {
     "data": {
      "text/plain": [
       "Series([], Name: active, dtype: float64)"
      ]
     },
     "execution_count": 13,
     "metadata": {},
     "output_type": "execute_result"
    }
   ],
   "source": [
    "Devices=elec.select(instance=[2,3,4,5,6,7]) #MeterGroup de dispositivos\n",
    "d=Devices.energy_per_meter().loc['active']  #energía kWh\n",
    "d[d>5.85] #filtra dispositivos menores o iguales a 5.85 kWh (5% consumo)"
   ]
  },
  {
   "cell_type": "markdown",
   "metadata": {},
   "source": [
    "*top-k*"
   ]
  },
  {
   "cell_type": "code",
   "execution_count": 14,
   "metadata": {},
   "outputs": [
    {
     "name": "stdout",
     "output_type": "stream",
     "text": [
      "6/6 ElecMeter(instance=7, building=1, dataset='DSUAL', appliances=[Appliance(type='light', instance=1)])ance=1)])"
     ]
    },
    {
     "data": {
      "text/plain": [
       "MeterGroup(meters=\n",
       "  ElecMeter(instance=2, building=1, dataset='DSUAL', appliances=[Appliance(type='boiler', instance=1)])\n",
       "  ElecMeter(instance=6, building=1, dataset='DSUAL', appliances=[Appliance(type='vacuum cleaner', instance=1)])\n",
       "  ElecMeter(instance=4, building=1, dataset='DSUAL', appliances=[Appliance(type='freezer', instance=1)])\n",
       "  ElecMeter(instance=3, building=1, dataset='DSUAL', appliances=[Appliance(type='fan', instance=1)])\n",
       "  ElecMeter(instance=5, building=1, dataset='DSUAL', appliances=[Appliance(type='television', instance=1)])\n",
       ")"
      ]
     },
     "execution_count": 14,
     "metadata": {},
     "output_type": "execute_result"
    }
   ],
   "source": [
    "Devices = elec.select(instance=[2,3,4,5,6,7])\n",
    "Devices.select_top_k(k=5)"
   ]
  },
  {
   "cell_type": "markdown",
   "metadata": {},
   "source": [
    "## División del dataset"
   ]
  },
  {
   "cell_type": "markdown",
   "metadata": {},
   "source": [
    "- train: conjunto de datos de entrenamiento de modelos de desagregación\n",
    "- test: conjunto de datos de validación y pruebas de modelos de desagregación"
   ]
  },
  {
   "cell_type": "markdown",
   "metadata": {},
   "source": [
    "Entrenamiento:"
   ]
  },
  {
   "cell_type": "code",
   "execution_count": 62,
   "metadata": {},
   "outputs": [
    {
     "data": {
      "text/plain": [
       "TimeFrame(start='2021-11-10 18:08:48+01:00', end='2021-11-10 20:49:00+01:00', empty=False)"
      ]
     },
     "execution_count": 62,
     "metadata": {},
     "output_type": "execute_result"
    }
   ],
   "source": [
    "train = DataSet('dsual.h5')\n",
    "\n",
    "#train.set_window(start=\"2021-11-11 17:39:00\", end=\"2021-11-11 17:40:00\")\n",
    "train.set_window(start=\"2021-11-10 18:08:00\", end=\"2021-11-10 20:49:00\")\n",
    "\n",
    "train_elec=train.buildings[1].elec\n",
    "\n",
    "train_elec.get_timeframe()"
   ]
  },
  {
   "cell_type": "code",
   "execution_count": 57,
   "metadata": {},
   "outputs": [
    {
     "data": {
      "text/plain": [
       "<matplotlib.axes._subplots.AxesSubplot at 0x2aadcb426d8>"
      ]
     },
     "execution_count": 57,
     "metadata": {},
     "output_type": "execute_result"
    },
    {
     "data": {
      "image/png": "[encoded data removed]",
      "text/plain": [
       "<Figure size 720x432 with 1 Axes>"
      ]
     },
     "metadata": {
      "needs_background": "light"
     },
     "output_type": "display_data"
    }
   ],
   "source": [
    "train_elec.plot()\n",
    "#no hay datos train_elec.submeters().plot()\n",
    "\n"
   ]
  },
  {
   "cell_type": "markdown",
   "metadata": {},
   "source": [
    "Validación:"
   ]
  },
  {
   "cell_type": "code",
   "execution_count": 59,
   "metadata": {},
   "outputs": [
    {
     "data": {
      "text/plain": [
       "TimeFrame(start='2021-11-10 18:08:48+01:00', end='2021-11-10 20:00:00+01:00', empty=False)"
      ]
     },
     "execution_count": 59,
     "metadata": {},
     "output_type": "execute_result"
    }
   ],
   "source": [
    " #Validación \n",
    "\n",
    "valid = DataSet('dsual.h5')\n",
    "\n",
    "#valid.set_window(start=\"2021-11-10 18:08:00\", end=\"2021-11-10 20:00:00\")\n",
    "valid.set_window(start=\"2021-11-10 18:08:00\", end=\"2021-11-10 20:00:00\")\n",
    "valid_elec=valid.buildings[1].elec\n",
    "\n",
    "valid_elec.get_timeframe()"
   ]
  },
  {
   "cell_type": "code",
   "execution_count": 60,
   "metadata": {},
   "outputs": [
    {
     "data": {
      "image/png": "[encoded data removed]",
      "text/plain": [
       "<Figure size 720x432 with 1 Axes>"
      ]
     },
     "metadata": {
      "needs_background": "light"
     },
     "output_type": "display_data"
    }
   ],
   "source": [
    "valid_elec.mains().plot()\n",
    "valid_elec.submeters().plot()"
   ]
  },
  {
   "cell_type": "markdown",
   "metadata": {},
   "source": [
    "Pruebas"
   ]
  },
  {
   "cell_type": "code",
   "execution_count": 50,
   "metadata": {},
   "outputs": [
    {
     "data": {
      "text/plain": [
       "TimeFrame(start='2021-11-10 20:00:00+01:00', end='2021-11-10 20:49:17+01:00', empty=False)"
      ]
     },
     "execution_count": 50,
     "metadata": {},
     "output_type": "execute_result"
    }
   ],
   "source": [
    "\n",
    "\n",
    "#test=DataSet('C:/data/DEPS.h5') #Pruebas\n",
    "\n",
    "test = DataSet('dsual.h5')\n",
    "\n",
    "test.set_window(start=\"2021-11-10 20:00:00\", end=\"2021-11-10 20:50:00\")\n",
    "test_elec=test.buildings[1].elec\n",
    "\n",
    "test_elec.get_timeframe()"
   ]
  },
  {
   "cell_type": "code",
   "execution_count": 51,
   "metadata": {},
   "outputs": [
    {
     "data": {
      "text/plain": [
       "<matplotlib.axes._subplots.AxesSubplot at 0x2aad52a7630>"
      ]
     },
     "execution_count": 51,
     "metadata": {},
     "output_type": "execute_result"
    },
    {
     "data": {
      "image/png": "[encoded data removed]",
      "text/plain": [
       "<Figure size 720x432 with 1 Axes>"
      ]
     },
     "metadata": {
      "needs_background": "light"
     },
     "output_type": "display_data"
    }
   ],
   "source": [
    "test_elec.mains().plot()"
   ]
  },
  {
   "cell_type": "code",
   "execution_count": null,
   "metadata": {},
   "outputs": [],
   "source": []
  }
 ],
 "metadata": {
  "kernelspec": {
   "display_name": "Python 3",
   "language": "python",
   "name": "python3"
  },
  "language_info": {
   "codemirror_mode": {
    "name": "ipython",
    "version": 3
   },
   "file_extension": ".py",
   "mimetype": "text/x-python",
   "name": "python",
   "nbconvert_exporter": "python",
   "pygments_lexer": "ipython3",
   "version": "3.6.13"
  }
 },
 "nbformat": 4,
 "nbformat_minor": 4
}
