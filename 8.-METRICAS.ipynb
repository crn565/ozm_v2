{
 "cells": [
  {
   "cell_type": "markdown",
   "metadata": {},
   "source": [
    "# 8- MÉTRICAS"
   ]
  },
  {
   "cell_type": "markdown",
   "metadata": {},
   "source": [
    " La rápida expansión de NILM y el desarrollo de diferentes algoritmos, han hecho que sea esencial proporcionar una evaluación de rendimiento mediante el uso de métricas de desempeño. Las métricas de evaluación, comparan los resultados de la desagregaciónn (predicciones) de los modelos entrenados con los datos del set de validación (mediciones reales de cada proceso). NILMTK cuenta con el cálculo de métricas de evaluación mediante el uso del MeterGroup para la validación de los resultados mediante el set de validación \n",
    " Vamos ahora analizar en nuestro dataset diferentes metricas como son FEAC,F1, EAE ,MNEAP y RMSE  que  resumimos a continuacion en el siguinte cuadro:"
   ]
  },
  {
   "cell_type": "markdown",
   "metadata": {},
   "source": [
    "![metricas](metricas.jpg)"
   ]
  },
  {
   "cell_type": "markdown",
   "metadata": {},
   "source": [
    "En primer lugar cargamos las ibrerías y realizamos otros ajustes:"
   ]
  },
  {
   "cell_type": "code",
   "execution_count": 131,
   "metadata": {},
   "outputs": [],
   "source": [
    "%matplotlib inline\n",
    "import pandas as pd\n",
    "import numpy as np\n",
    "import matplotlib.pyplot as plt\n",
    "from matplotlib import rcParams\n",
    "import warnings\n",
    "warnings. filterwarnings(\"ignore\")\n",
    "plt.style.use('bmh')\n",
    "\n",
    "from nilmtk import TimeFrame, MeterGroup, HDFDataStore, DataSet\n",
    "from nilmtk.metrics import fraction_energy_assigned_correctly, mean_normalized_error_power\n",
    "from nilmtk.metrics import rms_error_power, f1_score, error_in_assigned_energy\n",
    "\n",
    "data_dir='./data/'"
   ]
  },
  {
   "cell_type": "markdown",
   "metadata": {},
   "source": [
    "### Métricas individuales del modelo"
   ]
  },
  {
   "cell_type": "code",
   "execution_count": 132,
   "metadata": {},
   "outputs": [],
   "source": [
    "#Librerías\n",
    "from nilmtk.metrics import f1_score\n",
    "from nilmtk.metrics import error_in_assigned_energy\n",
    "from nilmtk.metrics import mean_normalized_error_power\n",
    "from nilmtk.metrics import rms_error_power\n",
    "from nilmtk.metrics import fraction_energy_assigned_correctly"
   ]
  },
  {
   "cell_type": "code",
   "execution_count": 133,
   "metadata": {},
   "outputs": [
    {
     "name": "stdout",
     "output_type": "stream",
     "text": [
      "\n",
      "Dispositivos para validación de entrenamiento:\n",
      "MeterGroup(meters=\n",
      "  ElecMeter(instance=2, building=1, dataset='DSUAL', appliances=[Appliance(type='fan', instance=1)])\n",
      "  ElecMeter(instance=3, building=1, dataset='DSUAL', appliances=[Appliance(type='freezer', instance=1)])\n",
      "  ElecMeter(instance=4, building=1, dataset='DSUAL', appliances=[Appliance(type='television', instance=1)])\n",
      "  ElecMeter(instance=5, building=1, dataset='DSUAL', appliances=[Appliance(type='vacuum cleaner', instance=1)])\n",
      "  ElecMeter(instance=6, building=1, dataset='DSUAL', appliances=[Appliance(type='boiler', instance=1)])\n",
      ")\n",
      "\n",
      "\n",
      "Done!\n"
     ]
    },
    {
     "data": {
      "text/html": [
       "<div>\n",
       "<style scoped>\n",
       "    .dataframe tbody tr th:only-of-type {\n",
       "        vertical-align: middle;\n",
       "    }\n",
       "\n",
       "    .dataframe tbody tr th {\n",
       "        vertical-align: top;\n",
       "    }\n",
       "\n",
       "    .dataframe thead th {\n",
       "        text-align: right;\n",
       "    }\n",
       "</style>\n",
       "<table border=\"1\" class=\"dataframe\">\n",
       "  <thead>\n",
       "    <tr style=\"text-align: right;\">\n",
       "      <th></th>\n",
       "      <th>fan</th>\n",
       "      <th>freezer</th>\n",
       "      <th>television</th>\n",
       "      <th>vacuum cleaner</th>\n",
       "      <th>boiler</th>\n",
       "    </tr>\n",
       "  </thead>\n",
       "  <tbody>\n",
       "    <tr>\n",
       "      <th>F1</th>\n",
       "      <td>0.760</td>\n",
       "      <td>0.698</td>\n",
       "      <td>0.588</td>\n",
       "      <td>0.943</td>\n",
       "      <td>0.000</td>\n",
       "    </tr>\n",
       "    <tr>\n",
       "      <th>EAE</th>\n",
       "      <td>0.000</td>\n",
       "      <td>0.000</td>\n",
       "      <td>0.000</td>\n",
       "      <td>0.000</td>\n",
       "      <td>0.000</td>\n",
       "    </tr>\n",
       "    <tr>\n",
       "      <th>MNEAP</th>\n",
       "      <td>0.512</td>\n",
       "      <td>0.633</td>\n",
       "      <td>0.411</td>\n",
       "      <td>0.123</td>\n",
       "      <td>1.000</td>\n",
       "    </tr>\n",
       "    <tr>\n",
       "      <th>RMSE</th>\n",
       "      <td>17.556</td>\n",
       "      <td>20.821</td>\n",
       "      <td>15.814</td>\n",
       "      <td>153.797</td>\n",
       "      <td>2.711</td>\n",
       "    </tr>\n",
       "  </tbody>\n",
       "</table>\n",
       "</div>"
      ],
      "text/plain": [
       "          fan  freezer  television  vacuum cleaner  boiler\n",
       "F1      0.760    0.698       0.588           0.943   0.000\n",
       "EAE     0.000    0.000       0.000           0.000   0.000\n",
       "MNEAP   0.512    0.633       0.411           0.123   1.000\n",
       "RMSE   17.556   20.821      15.814         153.797   2.711"
      ]
     },
     "execution_count": 133,
     "metadata": {},
     "output_type": "execute_result"
    }
   ],
   "source": [
    "\n",
    "labels = pd.DataFrame({'Instances': list(range(1,7)),\n",
    "                       'Meters': ['main',  'fan', 'freezer', 'television','vacuum cleaner', 'boiler']})\n",
    "\n",
    "\n",
    "#Set para validación\n",
    "valid = DataSet('dsual.h5')\n",
    "valid.set_window(start=\"2022-02-02 12:00:00\", end=\"2022-02-02 14:00:00\")\n",
    "valid_elec = valid.buildings[1].elec\n",
    "\n",
    "print('\\nDispositivos para validación de entrenamiento:')\n",
    "valid_Devices = valid_elec.select(instance=[2,3,4,5,6])\n",
    "print(valid_Devices)\n",
    "\n",
    "#Datos de Dispositivos: predicción\n",
    "# Se carga los resultados del mejor modelo\n",
    "dataset=DataSet(data_dir+'NILM/Results/CO_30s_first_pred.h5')\n",
    "predictions=dataset.buildings[1].elec.submeters()    \n",
    "\n",
    "\n",
    "\n",
    "\n",
    "\n",
    "\n",
    "\n",
    "index = list(labels['Meters'][1:6])\n",
    "met = []\n",
    "e = []\n",
    "#Datos de Dispositivos: predicción\n",
    "dataset=DataSet(data_dir+'NILM/Results/CO_60s_first_pred.h5')\n",
    "predictions=dataset.buildings[1].elec.submeters()      \n",
    "\n",
    "#Metricas\n",
    "f1 = {}; eae = {}; feac = {}; mneap = {}; rmse = {};\n",
    "\n",
    "f1['F1'] = f1_score(predictions, valid_Devices)\n",
    "\n",
    "EAE = error_in_assigned_energy(predictions, valid_Devices)\n",
    "for x in range(len(EAE)): e.append(EAE.iloc[x][0])\n",
    "eae['EAE'] = e\n",
    "\n",
    "#da error esta medida AttributeError: 'tuple' object has no attribute 'instance'\n",
    "#feac['FEAC'] = np.ones(6)*(fraction_energy_assigned_correctly(predictions, valid_Devices))\n",
    "#feac['FEAC'] = np.ones(6)*(fraction_energy_assigned_correctly(predictions, valid_Devices))\n",
    "\n",
    "\n",
    "mneap['MNEAP'] = mean_normalized_error_power(predictions, valid_Devices)\n",
    "\n",
    "rmse['RMSE'] = rms_error_power(predictions, valid_Devices)\n",
    "\n",
    "met.append(pd.concat([pd.DataFrame(feac, index=valid_Devices.instance()),\n",
    "                      pd.DataFrame(f1),\n",
    "                      pd.DataFrame(eae, index=valid_Devices.instance()),\n",
    "                      pd.DataFrame(mneap),\n",
    "                      pd.DataFrame(rmse)],\n",
    "                     axis=1).set_index(pd.Index(index)))\n",
    "\n",
    "dataset.store.close()       \n",
    "print('\\n\\nDone!')\n",
    "metrics=met[0].transpose().round(3)\n",
    "metrics"
   ]
  },
  {
   "cell_type": "markdown",
   "metadata": {},
   "source": [
    "Carga de datos de predicciones y GT en memoria"
   ]
  },
  {
   "cell_type": "code",
   "execution_count": 134,
   "metadata": {},
   "outputs": [],
   "source": [
    "gt=valid_elec.dataframe_of_meters(ac_type='active', sample_period=30, resample_kwargs={'how':'first'})\n",
    "\n",
    "labels = pd.DataFrame({'Instances': list(range(1,7)),\n",
    "                       'Meters': ['main',  'fan', 'freezer', 'television','vacuum cleaner', 'boiler']})\n",
    "\n",
    "Meters={}\n",
    "for x in range(len(labels)): Meters[valid_elec[x+1]]=labels['Meters'][x]\n",
    "    \n",
    "\n",
    "    \n",
    "    \n",
    "#resultados de predicción modelo CO 30s\n",
    "CO_30s_first=DataSet(data_dir+'NILM/Results/CO_30s_first_pred.h5')\n",
    "elec_CO_30s_first=CO_30s_first.buildings[1].elec\n",
    "\n",
    "#resultados de predicción modelo FHMM 30s\n",
    "FHMM_30s_first=DataSet(data_dir+'NILM/Results/FHMM_30s_first_pred.h5')\n",
    "elec_FHMM_30s_first= FHMM_30s_first.buildings[1].elec    \n",
    "    \n",
    "    \n",
    "\n",
    "gt.columns=list(Meters.values())\n",
    "pred_CO=elec_CO_30s_first.dataframe_of_meters(ac_type='active')\n",
    "\n",
    "pred_CO.columns=[list(Meters.values())[0]]+list(Meters.values())[1:6]\n",
    "\n",
    "pred_FHMM=elec_FHMM_30s_first.dataframe_of_meters(ac_type='active')\n",
    "\n",
    "pred_FHMM.columns=[list(Meters.values())[0]]+list(Meters.values())[1:6]"
   ]
  },
  {
   "cell_type": "markdown",
   "metadata": {},
   "source": [
    "### Análisis particular del cálculo de cada métrica\n",
    "\n",
    "Metrica FEAC ( da problema con AttributeError: 'tuple' object has no attribute 'instance')"
   ]
  },
  {
   "cell_type": "code",
   "execution_count": 135,
   "metadata": {},
   "outputs": [],
   "source": [
    "#Carga de datos de predicciones y GT en memoria\n",
    "#gt=valid_elec.dataframe_of_meters(ac_type='active', sample_period=60, resample_kwargs={'how':'first'})\n",
    "#gt.columns=list(Meters.values())"
   ]
  },
  {
   "cell_type": "code",
   "execution_count": 136,
   "metadata": {},
   "outputs": [],
   "source": [
    "#predictions_Devices=elec_CO_60s_first.submeters()\n",
    "\n",
    "#frac_1 = valid_Devices.fraction_per_meter()\n",
    "#frac_2 = predictions_Devices.fraction_per_meter()\n",
    "#fig, (ax1, ax2) = plt.subplots(1, 2 ,gridspec_kw={'hspace': 0.1, 'wspace': 0.1})\n",
    "\n",
    "#frac_1.plot(autopct=lambda p:'{:.0f}%'.format(p), kind='pie',labels=list(Meters.values())[1:6], figsize=(8,8), ax=ax1,   colors=['tab:blue','tab:orange','tab:green','tab:olive','tab:purple','tab:cyan'])\n",
    "#frac_2.plot(autopct=lambda p:'{:.0f}%'.format(p), kind='pie',  labels=list(Meters.values())[1:6], figsize=(8,8), ax=ax2,  colors=['tab:blue','tab:orange','tab:green','tab:olive','tab:purple','tab:cyan']) \n",
    "\n",
    "#ax1.set(ylabel=\"\")\n",
    "#ax1.set(xlabel=\"GT\")\n",
    "#ax2.set(ylabel=\"\")\n",
    "#ax2.set(xlabel=\"Predictions\")\n",
    "#plt.savefig('./data/images/5.4_FEAC_CO_60s.svg', bbox_inches='tight', transparent=True)\n",
    "#pass"
   ]
  },
  {
   "cell_type": "markdown",
   "metadata": {},
   "source": [
    "## Métrica F1"
   ]
  },
  {
   "cell_type": "markdown",
   "metadata": {},
   "source": [
    "Esta métrica mide la precisión o asertividad del modelo entrenado mediante el cálculo de la media armónica utilizando las métricas Precision y Recall. Estas métricas son calculadas internamente por NILMTK mediante la matriz de confusión, vease la ecuación de la figura siguiente."
   ]
  },
  {
   "cell_type": "markdown",
   "metadata": {},
   "source": [
    "![metricas](metricas.jpg)"
   ]
  },
  {
   "cell_type": "markdown",
   "metadata": {},
   "source": [
    "Precision se entiende como la fracción de cortes de tiempo en los que se predijo correctamente que un proceso estaba activo, pero realmente se encontraba apagado. Por lo contrario, Recall hace referencia a la fracción de cortes de tiempo en los que se predijo correctamente que el dispositivo estaba encendido y realmente se encontraba encendido ."
   ]
  },
  {
   "cell_type": "code",
   "execution_count": 137,
   "metadata": {},
   "outputs": [
    {
     "data": {
      "text/html": [
       "<div>\n",
       "<style scoped>\n",
       "    .dataframe tbody tr th:only-of-type {\n",
       "        vertical-align: middle;\n",
       "    }\n",
       "\n",
       "    .dataframe tbody tr th {\n",
       "        vertical-align: top;\n",
       "    }\n",
       "\n",
       "    .dataframe thead th {\n",
       "        text-align: right;\n",
       "    }\n",
       "</style>\n",
       "<table border=\"1\" class=\"dataframe\">\n",
       "  <thead>\n",
       "    <tr style=\"text-align: right;\">\n",
       "      <th></th>\n",
       "      <th>fan</th>\n",
       "      <th>freezer</th>\n",
       "      <th>television</th>\n",
       "      <th>vacuum cleaner</th>\n",
       "      <th>boiler</th>\n",
       "    </tr>\n",
       "  </thead>\n",
       "  <tbody>\n",
       "    <tr>\n",
       "      <th>F1</th>\n",
       "      <td>76.0</td>\n",
       "      <td>69.8</td>\n",
       "      <td>58.8</td>\n",
       "      <td>94.3</td>\n",
       "      <td>0.0</td>\n",
       "    </tr>\n",
       "  </tbody>\n",
       "</table>\n",
       "</div>"
      ],
      "text/plain": [
       "     fan  freezer  television  vacuum cleaner  boiler\n",
       "F1  76.0     69.8        58.8            94.3     0.0"
      ]
     },
     "execution_count": 137,
     "metadata": {},
     "output_type": "execute_result"
    }
   ],
   "source": [
    "pd.DataFrame(metrics.loc['F1']).transpose()*100"
   ]
  },
  {
   "cell_type": "code",
   "execution_count": 138,
   "metadata": {},
   "outputs": [
    {
     "data": {
      "image/png": "[encoded data removed]",
      "text/plain": [
       "<Figure size 720x288 with 1 Axes>"
      ]
     },
     "metadata": {
      "needs_background": "light"
     },
     "output_type": "display_data"
    }
   ],
   "source": [
    "rcParams['figure.figsize'] = (10, 4)\n",
    "t0='2022-02-02 10:00:00+01:00' #tiempo inicial\n",
    "t1='2022-02-02 14:00:00+01:00' #tiempo final\n",
    "fig, ax1 = plt.subplots();\n",
    "ax1=gt['fan'].plot(lw=4, c='tab:orange')\n",
    "pred_CO['fan'].plot(ax=ax1, c='darkred', lw=1.5, ls='--')\n",
    "ax1.legend(labels=['fan','Pred_CO'], fontsize=9, loc='upper left', ncol=1)\n",
    "ax1.set_ylim(-10,650)\n",
    "ax1.set_xlim(t0,t1)\n",
    "ax1.minorticks_off()\n",
    "ax1.set_xticklabels(labels=['10:00','10:30','11:00','11:30','12:00','12:30','13:30','14:00']\n",
    "                    , horizontalalignment ='right')  \n",
    "ax1.set_ylabel('Power (W)')\n",
    "#ax1.annotate('TP', xy=(250, 188), xycoords='figure points', xytext=(285, 210), fontweight='bold',\n",
    "#             arrowprops=dict(facecolor='red', width=3, headwidth=10))\n",
    "ax1.annotate('TN', xy=(420, 38), xycoords='figure points', xytext=(400, 70), fontweight='bold',\n",
    "             arrowprops=dict(facecolor='red', width=3, headwidth=10))\n",
    "ax1.annotate('FN', xy=(450, 38), xycoords='figure points', xytext=(530, 70), fontweight='bold',\n",
    "             arrowprops=dict(facecolor='red', width=3, headwidth=10))\n",
    "#ax1.annotate('FP', xy=(187, 188), xycoords='figure points', xytext=(220, 210), fontweight='bold',\n",
    "#             arrowprops=dict(facecolor='red', width=3, headwidth=10))\n",
    "plt.savefig('./data/images/5.5_F1_CO_60s.svg', bbox_inches='tight', transparent=True)\n",
    "pass"
   ]
  },
  {
   "cell_type": "markdown",
   "metadata": {},
   "source": [
    "## Métrica EAE"
   ]
  },
  {
   "cell_type": "markdown",
   "metadata": {},
   "source": [
    "La ecuación de la figura representa la diferencia entre la energía total asignada yˆt(n) energía total consumida yt(n) por el proceso n de la industria en kWh "
   ]
  },
  {
   "cell_type": "markdown",
   "metadata": {},
   "source": [
    "![metricas](metricas.jpg)"
   ]
  },
  {
   "cell_type": "code",
   "execution_count": 139,
   "metadata": {},
   "outputs": [
    {
     "data": {
      "text/html": [
       "<div>\n",
       "<style scoped>\n",
       "    .dataframe tbody tr th:only-of-type {\n",
       "        vertical-align: middle;\n",
       "    }\n",
       "\n",
       "    .dataframe tbody tr th {\n",
       "        vertical-align: top;\n",
       "    }\n",
       "\n",
       "    .dataframe thead th {\n",
       "        text-align: right;\n",
       "    }\n",
       "</style>\n",
       "<table border=\"1\" class=\"dataframe\">\n",
       "  <thead>\n",
       "    <tr style=\"text-align: right;\">\n",
       "      <th></th>\n",
       "      <th>fan</th>\n",
       "      <th>freezer</th>\n",
       "      <th>television</th>\n",
       "      <th>vacuum cleaner</th>\n",
       "      <th>boiler</th>\n",
       "    </tr>\n",
       "  </thead>\n",
       "  <tbody>\n",
       "    <tr>\n",
       "      <th>EAE</th>\n",
       "      <td>0.0</td>\n",
       "      <td>0.0</td>\n",
       "      <td>0.0</td>\n",
       "      <td>0.0</td>\n",
       "      <td>0.0</td>\n",
       "    </tr>\n",
       "  </tbody>\n",
       "</table>\n",
       "</div>"
      ],
      "text/plain": [
       "     fan  freezer  television  vacuum cleaner  boiler\n",
       "EAE  0.0      0.0         0.0             0.0     0.0"
      ]
     },
     "execution_count": 139,
     "metadata": {},
     "output_type": "execute_result"
    }
   ],
   "source": [
    "round(pd.DataFrame(metrics.loc['EAE']).transpose(),2)"
   ]
  },
  {
   "cell_type": "code",
   "execution_count": 140,
   "metadata": {},
   "outputs": [
    {
     "data": {
      "text/html": [
       "<div>\n",
       "<style scoped>\n",
       "    .dataframe tbody tr th:only-of-type {\n",
       "        vertical-align: middle;\n",
       "    }\n",
       "\n",
       "    .dataframe tbody tr th {\n",
       "        vertical-align: top;\n",
       "    }\n",
       "\n",
       "    .dataframe thead th {\n",
       "        text-align: right;\n",
       "    }\n",
       "</style>\n",
       "<table border=\"1\" class=\"dataframe\">\n",
       "  <thead>\n",
       "    <tr style=\"text-align: right;\">\n",
       "      <th></th>\n",
       "      <th>kWh</th>\n",
       "    </tr>\n",
       "  </thead>\n",
       "  <tbody>\n",
       "    <tr>\n",
       "      <th>Energy_pred</th>\n",
       "      <td>0.019103</td>\n",
       "    </tr>\n",
       "    <tr>\n",
       "      <th>Energy_GT</th>\n",
       "      <td>0.019103</td>\n",
       "    </tr>\n",
       "    <tr>\n",
       "      <th>EAE</th>\n",
       "      <td>0.000000</td>\n",
       "    </tr>\n",
       "  </tbody>\n",
       "</table>\n",
       "</div>"
      ],
      "text/plain": [
       "                  kWh\n",
       "Energy_pred  0.019103\n",
       "Energy_GT    0.019103\n",
       "EAE          0.000000"
      ]
     },
     "execution_count": 140,
     "metadata": {},
     "output_type": "execute_result"
    }
   ],
   "source": [
    "predictions_Devices=elec_CO_30s_first.submeters()\n",
    "e1=predictions_Devices[5].total_energy()[0]\n",
    "e2=valid_Devices[5].total_energy()[0]\n",
    "eae=round(abs(e1-e2),2)\n",
    "\n",
    "pd.DataFrame([e1,e2,eae], columns=['kWh'], index=['Energy_pred','Energy_GT','EAE'])"
   ]
  },
  {
   "cell_type": "markdown",
   "metadata": {},
   "source": [
    "## Métrica MNEAP"
   ]
  },
  {
   "cell_type": "markdown",
   "metadata": {},
   "source": [
    "Este indicador que representa la ecuacion de la imagen  consta de la diferencia entre la potencia asignada yˆt(n) y la potencia real yt(n) de cada proceso de la industria, por cada intervalo de tiempo t. Después de sumar todas las diferencias de potencia, el resultado es normalizado por el consumo total de la energía del proceso "
   ]
  },
  {
   "cell_type": "markdown",
   "metadata": {},
   "source": [
    "![metricas](metricas.jpg)"
   ]
  },
  {
   "cell_type": "code",
   "execution_count": 141,
   "metadata": {},
   "outputs": [
    {
     "data": {
      "text/html": [
       "<div>\n",
       "<style scoped>\n",
       "    .dataframe tbody tr th:only-of-type {\n",
       "        vertical-align: middle;\n",
       "    }\n",
       "\n",
       "    .dataframe tbody tr th {\n",
       "        vertical-align: top;\n",
       "    }\n",
       "\n",
       "    .dataframe thead th {\n",
       "        text-align: right;\n",
       "    }\n",
       "</style>\n",
       "<table border=\"1\" class=\"dataframe\">\n",
       "  <thead>\n",
       "    <tr style=\"text-align: right;\">\n",
       "      <th></th>\n",
       "      <th>fan</th>\n",
       "      <th>freezer</th>\n",
       "      <th>television</th>\n",
       "      <th>vacuum cleaner</th>\n",
       "      <th>boiler</th>\n",
       "    </tr>\n",
       "  </thead>\n",
       "  <tbody>\n",
       "    <tr>\n",
       "      <th>MNEAP</th>\n",
       "      <td>0.51</td>\n",
       "      <td>0.63</td>\n",
       "      <td>0.41</td>\n",
       "      <td>0.12</td>\n",
       "      <td>1.0</td>\n",
       "    </tr>\n",
       "  </tbody>\n",
       "</table>\n",
       "</div>"
      ],
      "text/plain": [
       "        fan  freezer  television  vacuum cleaner  boiler\n",
       "MNEAP  0.51     0.63        0.41            0.12     1.0"
      ]
     },
     "execution_count": 141,
     "metadata": {},
     "output_type": "execute_result"
    }
   ],
   "source": [
    "round(pd.DataFrame(metrics.loc['MNEAP']).transpose(),2)"
   ]
  },
  {
   "cell_type": "code",
   "execution_count": 142,
   "metadata": {},
   "outputs": [
    {
     "data": {
      "image/png": "[encoded data removed]",
      "text/plain": [
       "<Figure size 720x216 with 1 Axes>"
      ]
     },
     "metadata": {
      "needs_background": "light"
     },
     "output_type": "display_data"
    }
   ],
   "source": [
    "rcParams['figure.figsize'] = (10, 3)\n",
    "fig, ax1 = plt.subplots();\n",
    "\n",
    "#umbrales de potencia\n",
    "a1=[20,1250]\n",
    "\n",
    "gt['fan'][a1[0]:a1[1]].plot(ax=ax1, lw=2, c='tab:purple', marker=\"D\")\n",
    "pred_CO['fan'][a1[0]:a1[1]].plot(ax=ax1, c='darkred', lw=1, ls='--', marker=\"D\")\n",
    "\n",
    "ax1.minorticks_off()\n",
    "ax1.set_ylabel('Power (W)')\n",
    "ax1.legend(labels=['GT fan','Pred_CO'], fontsize=9, ncol=1)\n",
    "\n",
    "err= abs(round((gt['fan'][a1[0]:a1[1]]-pred_CO['fan'][a1[0]:a1[1]])[1:6],1))\n",
    "\n",
    "aux=40\n",
    "i=0\n",
    "for e in err:\n",
    "    ax1.annotate((str(err[i])+'W'), xy=(aux, 30+(abs(err[i]))*0.2), xycoords='axes points', size=10)\n",
    "    aux=aux+63\n",
    "    i=i+1\n",
    "\n",
    "\n",
    "ax1.set_xticklabels(labels=['10:00','10:30','11:00','11:30','12:00','12:30','13:00','13:30','14:00',''])   \n",
    "plt.savefig('./data/images/5.6_MNEAP_CO_30s.svg', bbox_inches='tight', transparent=True)\n",
    "pass"
   ]
  },
  {
   "cell_type": "markdown",
   "metadata": {},
   "source": [
    "## Métrica RMSE"
   ]
  },
  {
   "cell_type": "markdown",
   "metadata": {},
   "source": [
    "Esta métrica de la ecuación de la figura es muy utilizada en la comparaciónn de diversos conjuntos de datos, consiste en el error cuadrático medio de la diferencia entre la potencia asignada yˆt(n) y la potencia real yt(n) del proceso de los applicativos , en cada intervalo de tiempo t ."
   ]
  },
  {
   "cell_type": "markdown",
   "metadata": {},
   "source": [
    "![metricas](metricas.jpg)"
   ]
  },
  {
   "cell_type": "code",
   "execution_count": 143,
   "metadata": {},
   "outputs": [
    {
     "data": {
      "text/html": [
       "<div>\n",
       "<style scoped>\n",
       "    .dataframe tbody tr th:only-of-type {\n",
       "        vertical-align: middle;\n",
       "    }\n",
       "\n",
       "    .dataframe tbody tr th {\n",
       "        vertical-align: top;\n",
       "    }\n",
       "\n",
       "    .dataframe thead th {\n",
       "        text-align: right;\n",
       "    }\n",
       "</style>\n",
       "<table border=\"1\" class=\"dataframe\">\n",
       "  <thead>\n",
       "    <tr style=\"text-align: right;\">\n",
       "      <th></th>\n",
       "      <th>fan</th>\n",
       "      <th>freezer</th>\n",
       "      <th>television</th>\n",
       "      <th>vacuum cleaner</th>\n",
       "      <th>boiler</th>\n",
       "    </tr>\n",
       "  </thead>\n",
       "  <tbody>\n",
       "    <tr>\n",
       "      <th>RMSE</th>\n",
       "      <td>17.6</td>\n",
       "      <td>20.8</td>\n",
       "      <td>15.8</td>\n",
       "      <td>153.8</td>\n",
       "      <td>2.7</td>\n",
       "    </tr>\n",
       "  </tbody>\n",
       "</table>\n",
       "</div>"
      ],
      "text/plain": [
       "       fan  freezer  television  vacuum cleaner  boiler\n",
       "RMSE  17.6     20.8        15.8           153.8     2.7"
      ]
     },
     "execution_count": 143,
     "metadata": {},
     "output_type": "execute_result"
    }
   ],
   "source": [
    "round(pd.DataFrame(metrics.loc['RMSE']).transpose(),1)"
   ]
  },
  {
   "cell_type": "markdown",
   "metadata": {},
   "source": [
    "## Resultados de todos los modelos"
   ]
  },
  {
   "cell_type": "code",
   "execution_count": 144,
   "metadata": {},
   "outputs": [
    {
     "name": "stdout",
     "output_type": "stream",
     "text": [
      "\n",
      "Calculando Metricas: CO_10s_first\n",
      "\n",
      "Calculando Metricas: FHMM_10s_first\n",
      "\n",
      "Calculando Metricas: CO_10s_mean\n",
      "\n",
      "Calculando Metricas: FHMM_10s_mean\n",
      "\n",
      "Calculando Metricas: CO_10s_median\n",
      "\n",
      "Calculando Metricas: FHMM_10s_median\n",
      "\n",
      "Calculando Metricas: CO_30s_first\n",
      "\n",
      "Calculando Metricas: FHMM_30s_first\n",
      "\n",
      "Calculando Metricas: CO_30s_mean\n",
      "\n",
      "Calculando Metricas: FHMM_30s_mean\n",
      "\n",
      "Calculando Metricas: CO_30s_median\n",
      "\n",
      "Calculando Metricas: FHMM_30s_median\n",
      "\n",
      "Calculando Metricas: CO_60s_first\n",
      "\n",
      "Calculando Metricas: FHMM_60s_first\n",
      "\n",
      "Calculando Metricas: CO_60s_mean\n",
      "\n",
      "Calculando Metricas: FHMM_60s_mean\n",
      "\n",
      "Calculando Metricas: CO_60s_median\n",
      "\n",
      "Calculando Metricas: FHMM_60s_median\n",
      "\n",
      "Calculando Metricas: CO_5min_first\n",
      "\n",
      "Calculando Metricas: FHMM_5min_first\n",
      "\n",
      "Calculando Metricas: CO_5min_mean\n",
      "\n",
      "Calculando Metricas: FHMM_5min_mean\n",
      "\n",
      "Calculando Metricas: CO_5min_median\n",
      "\n",
      "Calculando Metricas: FHMM_5min_median\n",
      "\n",
      "Calculando Metricas: CO_10min_first\n",
      "\n",
      "Calculando Metricas: FHMM_10min_first\n",
      "\n",
      "Calculando Metricas: CO_10min_mean\n",
      "\n",
      "Calculando Metricas: FHMM_10min_mean\n",
      "\n",
      "Calculando Metricas: CO_10min_median\n",
      "\n",
      "Calculando Metricas: FHMM_10min_median\n",
      "\n",
      "Calculando Metricas: CO_15min_first\n",
      "\n",
      "Calculando Metricas: FHMM_15min_first\n",
      "\n",
      "Calculando Metricas: CO_15min_mean\n",
      "\n",
      "Calculando Metricas: FHMM_15min_mean\n",
      "\n",
      "Calculando Metricas: CO_15min_median\n",
      "\n",
      "Calculando Metricas: FHMM_15min_median\n",
      "\n",
      "Calculando Metricas: CO_30min_first\n",
      "\n",
      "Calculando Metricas: FHMM_30min_first\n",
      "\n",
      "Calculando Metricas: CO_30min_mean\n",
      "\n",
      "Calculando Metricas: FHMM_30min_mean\n",
      "\n",
      "Calculando Metricas: CO_30min_median\n",
      "\n",
      "Calculando Metricas: FHMM_30min_median\n",
      "\n",
      "\n",
      "Done!\n"
     ]
    }
   ],
   "source": [
    "from nilmtk.metrics import fraction_energy_assigned_correctly, f1_score, error_in_assigned_energy\n",
    "from nilmtk.metrics import mean_normalized_error_power, rms_error_power \n",
    "periods = {'10s':10 , '30s':30, '60s':60, '5min':60*5, '10min':60*10, '15min':60*15, '30min':60*30}\n",
    "\n",
    "dir_predictions = data_dir +'NILM/Results/'\n",
    "m = {}\n",
    "classifiers = ['CO', 'FHMM']\n",
    "methods = ['first', 'mean', 'median']\n",
    "index = list(labels['Meters'][1:6])\n",
    "\n",
    "for p_name, sp in periods.items():\n",
    "    met = []\n",
    "    for method in methods:\n",
    "        for clf_name in classifiers:\n",
    "            print('\\nCalculando Metricas: '+ clf_name + '_' + p_name + '_' + method)  \n",
    "           \n",
    "            #Datos de Dispositivos: predicción\n",
    "            input_dir = dir_predictions + clf_name + '_' + p_name + '_' + method +'_pred.h5'\n",
    "            dataset = DataSet(input_dir)\n",
    "            predictions=dataset.buildings[1].elec.submeters()       \n",
    "            \n",
    "            #Metricas\n",
    "            f1 = {}; eae = {}; feac = {}; mneap = {}; rmse = {}; e=[];  \n",
    "            F1 = f1_score(predictions, valid_Devices)\n",
    "            f1['F1'] = F1*100\n",
    "            EAE = error_in_assigned_energy(predictions, valid_Devices)\n",
    "            \n",
    "            for x in range(len(EAE)): e.append(EAE.iloc[x][0])\n",
    "            eae['EAE'] = e\n",
    "            #da error para FEAC\n",
    "            #feac['FEAC'] = 100*np.ones(6)*(fraction_energy_assigned_correctly(predictions, valid_Devices))\n",
    "            mneap['MNEAP'] = mean_normalized_error_power(predictions, valid_Devices)\n",
    "            rmse['RMSE'] = rms_error_power(predictions, valid_Devices)\n",
    "            met.append(pd.concat([pd.DataFrame(feac, index=valid_Devices.instance()),\n",
    "                                  pd.DataFrame(f1),\n",
    "                                  pd.DataFrame(eae, index=valid_Devices.instance()),\n",
    "                                  pd.DataFrame(mneap),\n",
    "                                  pd.DataFrame(rmse)],\n",
    "                                 axis=1).set_index(pd.Index(index)))\n",
    "            dataset.store.close()        \n",
    "    m[p_name] = met\n",
    "\n",
    "##Guardamos resultados\n",
    "f = open(data_dir +'NILM/metrics.txt',\"w\")\n",
    "f.write( str(m) )\n",
    "f.close()\n",
    "print('\\n\\nDone!')\n"
   ]
  },
  {
   "cell_type": "markdown",
   "metadata": {},
   "source": [
    "## Otras Metricas: métricas Promedio"
   ]
  },
  {
   "cell_type": "code",
   "execution_count": 160,
   "metadata": {},
   "outputs": [
    {
     "data": {
      "text/plain": [
       "{'F1':         CO-first    CO-mean  CO-median  FHMM-first  FHMM-mean  FHMM-median\n",
       " 10s    57.610535  59.601823  61.110907   63.421284  61.084022    63.554526\n",
       " 30s    58.591455  59.357381  60.310001   60.844188  59.952961    61.009954\n",
       " 60s    59.786119  53.934487  55.725484   56.795482  57.756568    56.115151\n",
       " 5min    0.000000   0.000000   0.000000   25.714286  25.714286    25.714286\n",
       " 10min   0.000000   0.000000   0.000000   13.333333  13.333333    13.333333\n",
       " 15min   0.000000   0.000000   0.000000   10.000000  10.000000    10.000000\n",
       " 30min   0.000000   0.000000   0.000000    0.000000   0.000000     0.000000,\n",
       " 'EAE':        CO-first  CO-mean  CO-median  FHMM-first  FHMM-mean  FHMM-median\n",
       " 10s         0.0      0.0        0.0         0.0        0.0          0.0\n",
       " 30s         0.0      0.0        0.0         0.0        0.0          0.0\n",
       " 60s         0.0      0.0        0.0         0.0        0.0          0.0\n",
       " 5min        0.0      0.0        0.0         0.0        0.0          0.0\n",
       " 10min       0.0      0.0        0.0         0.0        0.0          0.0\n",
       " 15min       0.0      0.0        0.0         0.0        0.0          0.0\n",
       " 30min       0.0      0.0        0.0         0.0        0.0          0.0,\n",
       " 'MNEAP':        CO-first   CO-mean  CO-median  FHMM-first  FHMM-mean  FHMM-median\n",
       " 10s    0.685126  0.682743   0.630907    0.351582   0.424139     0.348371\n",
       " 30s    0.637970  0.616555   0.611479    0.353094   0.360165     0.355415\n",
       " 60s    0.536011  0.628291   0.578359    0.386928   0.342715     0.362823\n",
       " 5min   1.000000  1.000000   1.000000    0.474691   0.482706     0.486726\n",
       " 10min  1.000000  1.000000   1.000000    0.537450   0.395428     0.513321\n",
       " 15min  1.000000  1.000000   1.000000    0.338791   0.309697     0.368883\n",
       " 30min  1.000000  1.000000   1.000000    0.229912   0.171377     0.395933,\n",
       " 'RMSE':          CO-first     CO-mean   CO-median  FHMM-first  FHMM-mean  FHMM-median\n",
       " 10s     23.124623   18.473528   17.968493   20.381492  18.069011    15.958833\n",
       " 30s     23.903300   18.940946   23.345358   21.669941  19.939873    21.697143\n",
       " 60s     42.139892   19.939412   30.545783   42.301629  17.711154    29.525809\n",
       " 5min   118.403172  118.403172  118.403172   67.873012  68.482750    69.542429\n",
       " 10min  114.430067  114.430067  114.430067   48.997136  47.650550    48.449107\n",
       " 15min  109.076778  109.076778  109.076778   23.254765  26.705964    24.561827\n",
       " 30min  111.080378  111.080378  111.080378   17.328500  20.779474    21.179474}"
      ]
     },
     "execution_count": 160,
     "metadata": {},
     "output_type": "execute_result"
    }
   ],
   "source": [
    "m_mean = {}\n",
    "\n",
    "#cols=['FEAC','F1','EAE','MNEAP','RMSE']\n",
    "\n",
    "cols=['F1','EAE','MNEAP','RMSE']\n",
    "labels=['CO-first', 'CO-mean', 'CO-median', 'FHMM-first', 'FHMM-mean' ,'FHMM-median']\n",
    "per=['10s','30s','60s','5min','10min','15min','30min']\n",
    "\n",
    "for c in cols:\n",
    "    m_mean[c] = pd.DataFrame([#CO FIRST\n",
    "                             [m['10s'][0][c].mean(),m['30s'][0][c].mean(),m['60s'][0][c].mean(),\n",
    "                              m['5min'][0][c].mean(),m['10min'][0][c].mean(),\n",
    "                              m['15min'][0][c].mean(),m['30min'][0][c].mean()],\n",
    "                              #CO MEAN\n",
    "                             [m['10s'][2][c].mean(),m['30s'][2][c].mean(),m['60s'][2][c].mean(),\n",
    "                              m['5min'][2][c].mean(),m['10min'][2][c].mean(),\n",
    "                              m['15min'][2][c].mean(),m['30min'][2][c].mean()],\n",
    "                              #CO MEDIAN\n",
    "                             [m['10s'][4][c].mean(),m['30s'][4][c].mean(),m['60s'][4][c].mean(),\n",
    "                              m['5min'][4][c].mean(),m['10min'][4][c].mean(),\n",
    "                              m['15min'][4][c].mean(),m['30min'][4][c].mean()],\n",
    "                             #FHMM FIRST\n",
    "                             [m['10s'][1][c].mean(),m['30s'][1][c].mean(),m['60s'][1][c].mean(),\n",
    "                             m['5min'][1][c].mean(),m['10min'][1][c].mean(),\n",
    "                              m['15min'][1][c].mean(),m['30min'][1][c].mean()],\n",
    "                             #FHMM MEAN            \n",
    "                             [m['10s'][3][c].mean(),m['30s'][3][c].mean(),m['60s'][3][c].mean(),\n",
    "                              m['5min'][3][c].mean(),m['10min'][3][c].mean(),\n",
    "                              m['15min'][3][c].mean(),m['30min'][3][c].mean()],\n",
    "                             #FHMM MEDIAN\n",
    "                             [m['10s'][5][c].mean(),m['30s'][5][c].mean(),m['60s'][5][c].mean(),\n",
    "                              m['5min'][5][c].mean(),m['10min'][5][c].mean(),\n",
    "                              m['15min'][5][c].mean(),m['30min'][5][c].mean()]],columns=per, index=labels).transpose()\n",
    "m_mean\n"
   ]
  },
  {
   "cell_type": "markdown",
   "metadata": {},
   "source": [
    "## Maximos\n"
   ]
  },
  {
   "cell_type": "code",
   "execution_count": 210,
   "metadata": {},
   "outputs": [
    {
     "data": {
      "text/html": [
       "<div>\n",
       "<style scoped>\n",
       "    .dataframe tbody tr th:only-of-type {\n",
       "        vertical-align: middle;\n",
       "    }\n",
       "\n",
       "    .dataframe tbody tr th {\n",
       "        vertical-align: top;\n",
       "    }\n",
       "\n",
       "    .dataframe thead th {\n",
       "        text-align: right;\n",
       "    }\n",
       "</style>\n",
       "<table border=\"1\" class=\"dataframe\">\n",
       "  <thead>\n",
       "    <tr style=\"text-align: right;\">\n",
       "      <th></th>\n",
       "      <th>10s</th>\n",
       "      <th>30s</th>\n",
       "      <th>60s</th>\n",
       "      <th>5min</th>\n",
       "      <th>10min</th>\n",
       "      <th>15min</th>\n",
       "      <th>30min</th>\n",
       "    </tr>\n",
       "  </thead>\n",
       "  <tbody>\n",
       "    <tr>\n",
       "      <th>F1</th>\n",
       "      <td>63.55</td>\n",
       "      <td>61.01</td>\n",
       "      <td>59.79</td>\n",
       "      <td>25.71</td>\n",
       "      <td>13.33</td>\n",
       "      <td>10.00</td>\n",
       "      <td>0.00</td>\n",
       "    </tr>\n",
       "    <tr>\n",
       "      <th>EAE</th>\n",
       "      <td>0.00</td>\n",
       "      <td>0.00</td>\n",
       "      <td>0.00</td>\n",
       "      <td>0.00</td>\n",
       "      <td>0.00</td>\n",
       "      <td>0.00</td>\n",
       "      <td>0.00</td>\n",
       "    </tr>\n",
       "    <tr>\n",
       "      <th>MNEAP</th>\n",
       "      <td>0.35</td>\n",
       "      <td>0.35</td>\n",
       "      <td>0.34</td>\n",
       "      <td>0.47</td>\n",
       "      <td>0.40</td>\n",
       "      <td>0.31</td>\n",
       "      <td>0.17</td>\n",
       "    </tr>\n",
       "    <tr>\n",
       "      <th>RMSE</th>\n",
       "      <td>15.96</td>\n",
       "      <td>18.94</td>\n",
       "      <td>17.71</td>\n",
       "      <td>67.87</td>\n",
       "      <td>47.65</td>\n",
       "      <td>23.25</td>\n",
       "      <td>17.33</td>\n",
       "    </tr>\n",
       "  </tbody>\n",
       "</table>\n",
       "</div>"
      ],
      "text/plain": [
       "         10s    30s    60s   5min  10min  15min  30min\n",
       "F1     63.55  61.01  59.79  25.71  13.33  10.00   0.00\n",
       "EAE     0.00   0.00   0.00   0.00   0.00   0.00   0.00\n",
       "MNEAP   0.35   0.35   0.34   0.47   0.40   0.31   0.17\n",
       "RMSE   15.96  18.94  17.71  67.87  47.65  23.25  17.33"
      ]
     },
     "execution_count": 210,
     "metadata": {},
     "output_type": "execute_result"
    }
   ],
   "source": [
    "cols=['F1','EAE','MNEAP','RMSE']\n",
    "\n",
    "maxs=pd.concat([m_mean['F1'].transpose().max(),\n",
    "                m_mean['EAE'].transpose().min(),\n",
    "                m_mean['MNEAP'].transpose().min(),\n",
    "                m_mean['RMSE'].transpose().min()], axis=1)\n",
    "maxs.columns=cols\n",
    "maxs = maxs.transpose()\n",
    "round(maxs,2)"
   ]
  },
  {
   "cell_type": "markdown",
   "metadata": {},
   "source": [
    "## Correspondencia de Indice"
   ]
  },
  {
   "cell_type": "code",
   "execution_count": 218,
   "metadata": {},
   "outputs": [
    {
     "data": {
      "text/html": [
       "<div>\n",
       "<style scoped>\n",
       "    .dataframe tbody tr th:only-of-type {\n",
       "        vertical-align: middle;\n",
       "    }\n",
       "\n",
       "    .dataframe tbody tr th {\n",
       "        vertical-align: top;\n",
       "    }\n",
       "\n",
       "    .dataframe thead th {\n",
       "        text-align: right;\n",
       "    }\n",
       "</style>\n",
       "<table border=\"1\" class=\"dataframe\">\n",
       "  <thead>\n",
       "    <tr style=\"text-align: right;\">\n",
       "      <th></th>\n",
       "      <th>10s</th>\n",
       "      <th>30s</th>\n",
       "      <th>60s</th>\n",
       "      <th>5min</th>\n",
       "      <th>10min</th>\n",
       "      <th>15min</th>\n",
       "      <th>30min</th>\n",
       "    </tr>\n",
       "  </thead>\n",
       "  <tbody>\n",
       "    <tr>\n",
       "      <th>F1</th>\n",
       "      <td>FHMM-median</td>\n",
       "      <td>FHMM-median</td>\n",
       "      <td>CO-first</td>\n",
       "      <td>FHMM-first</td>\n",
       "      <td>FHMM-first</td>\n",
       "      <td>FHMM-first</td>\n",
       "      <td>CO-first</td>\n",
       "    </tr>\n",
       "    <tr>\n",
       "      <th>EAE</th>\n",
       "      <td>CO-first</td>\n",
       "      <td>CO-first</td>\n",
       "      <td>CO-first</td>\n",
       "      <td>CO-first</td>\n",
       "      <td>CO-first</td>\n",
       "      <td>CO-first</td>\n",
       "      <td>CO-first</td>\n",
       "    </tr>\n",
       "    <tr>\n",
       "      <th>MNEAP</th>\n",
       "      <td>FHMM-median</td>\n",
       "      <td>FHMM-first</td>\n",
       "      <td>FHMM-mean</td>\n",
       "      <td>FHMM-first</td>\n",
       "      <td>FHMM-mean</td>\n",
       "      <td>FHMM-mean</td>\n",
       "      <td>FHMM-mean</td>\n",
       "    </tr>\n",
       "    <tr>\n",
       "      <th>RMSE</th>\n",
       "      <td>FHMM-median</td>\n",
       "      <td>CO-mean</td>\n",
       "      <td>FHMM-mean</td>\n",
       "      <td>FHMM-first</td>\n",
       "      <td>FHMM-mean</td>\n",
       "      <td>FHMM-first</td>\n",
       "      <td>FHMM-first</td>\n",
       "    </tr>\n",
       "  </tbody>\n",
       "</table>\n",
       "</div>"
      ],
      "text/plain": [
       "               10s          30s        60s        5min       10min  \\\n",
       "F1     FHMM-median  FHMM-median   CO-first  FHMM-first  FHMM-first   \n",
       "EAE       CO-first     CO-first   CO-first    CO-first    CO-first   \n",
       "MNEAP  FHMM-median   FHMM-first  FHMM-mean  FHMM-first   FHMM-mean   \n",
       "RMSE   FHMM-median      CO-mean  FHMM-mean  FHMM-first   FHMM-mean   \n",
       "\n",
       "            15min       30min  \n",
       "F1     FHMM-first    CO-first  \n",
       "EAE      CO-first    CO-first  \n",
       "MNEAP   FHMM-mean   FHMM-mean  \n",
       "RMSE   FHMM-first  FHMM-first  "
      ]
     },
     "execution_count": 218,
     "metadata": {},
     "output_type": "execute_result"
    }
   ],
   "source": [
    "cols=['F1','EAE','MNEAP','RMSE']\n",
    "\n",
    "maxs_i=pd.concat([m_mean['F1'].transpose().idxmax(),\n",
    "                 m_mean['EAE'].transpose().idxmin(),\n",
    "                 m_mean['MNEAP'].transpose().idxmin(),\n",
    "                 m_mean['RMSE'].transpose().idxmin()], axis=1)\n",
    "maxs_i.columns=cols\n",
    "maxs_i = maxs_i.transpose()\n",
    "maxs_i"
   ]
  },
  {
   "cell_type": "code",
   "execution_count": 228,
   "metadata": {},
   "outputs": [
    {
     "data": {
      "image/png": "[encoded data removed]",
      "text/plain": [
       "<Figure size 720x828 with 4 Axes>"
      ]
     },
     "metadata": {
      "needs_background": "light"
     },
     "output_type": "display_data"
    }
   ],
   "source": [
    "rcParams['figure.figsize'] = (10, 11.5)\n",
    "fig, (ax2,ax3,ax4,ax5) = plt.subplots(4, 1, sharex=True, gridspec_kw={'hspace': 0.35})\n",
    "cols=['F1','EAE','MNEAP','RMSE']\n",
    "ylabels=['[%]','[%]','[kWh]','[-]','[W]']\n",
    "per=['10s','30s','60s','5min','10min','15min','30min']\n",
    "\n",
    "labels={'CO-first':-0.35, 'CO-mean':-0.22, 'CO-median':-0.11, 'FHMM-first':0.01, 'FHMM-mean':0.13 ,'FHMM-median':0.245}\n",
    "\n",
    "c=0\n",
    "for ax in fig.get_axes():      \n",
    "    m_mean[cols[c]].plot.bar(ax=ax, width=0.7, edgecolor='black', linewidth=0.5, legend=False, cmap=\"jet\")\n",
    "    ax.set(ylabel=ylabels[c])\n",
    "    ax.grid(b=None)\n",
    "    x = 0\n",
    "    for p in per:\n",
    "        ax.annotate(\"▼\", xy=(labels[maxs_i[p][cols[c]]]+x, maxs[p][cols[c]]+maxs[p][cols[c]]*0.03))\n",
    "        x+=1\n",
    "    c+=1\n",
    "    \n",
    "ax5.set_xticklabels(labels=per, rotation=0, fontdict={'fontsize':12})\n",
    "fig.align_ylabels([(ax2,ax3,ax4,ax5)])\n",
    "ax2.set(ylim=(0,120))\n",
    "ax2.set_yticks([0,25,50,75,100])\n",
    "\n",
    "ax5.set_yticks([0,50,100,150,200])\n",
    "\n",
    "ax2.set_title('F1-Score', fontsize=11, loc='center')\n",
    "ax3.set_title('Error in Assigned Energy - EAE', fontsize=11, loc='center')\n",
    "ax4.set_title('Mean Normalised Error in Assigned Power - MNEAP', fontsize=11, loc='center')\n",
    "ax5.set_title('RMS Error in Assigned Power - RMSE', fontsize=11, loc='center')\n",
    "lgd = ax5.legend(labels.keys(), loc='lower center', ncol=6, bbox_to_anchor=(0.5, -0.6),fontsize=9.5)\n",
    "\n",
    "\n",
    "ax2.annotate(\"90.5%\", xy=(0.68, 98)); #30s FHMM-mean\n",
    "ax3.annotate(\"0.19\", xy=(6.22, 1.4)); #30min FHMM-median\n",
    "ax3.annotate(\"kWh\", xy=(6.22, 0.9)); #30min FHMM-median\n",
    "ax4.annotate(\"0.24\", xy=(6.22, 0.7)); #30min FHMM-median\n",
    "ax5.annotate(\"41.5\", xy=(6.22, 120)); #30min FHMM-median\n",
    "ax5.annotate(\"   W\", xy=(6.22, 90)); #30min FHMM-median\n",
    "\n",
    "\n",
    "plt.savefig('./data/images/5.7_All_metrics.svg', bbox_inches='tight', transparent=True)\n",
    "\n",
    "pass"
   ]
  },
  {
   "cell_type": "code",
   "execution_count": 229,
   "metadata": {},
   "outputs": [
    {
     "data": {
      "image/png": "[encoded data removed]",
      "text/plain": [
       "<Figure size 720x576 with 4 Axes>"
      ]
     },
     "metadata": {
      "needs_background": "light"
     },
     "output_type": "display_data"
    }
   ],
   "source": [
    "rcParams['figure.figsize'] = (10, 8)\n",
    "\n",
    "fig, (ax2,ax3,ax4,ax5) = plt.subplots(4, 1, sharex=False, gridspec_kw={'hspace': 0.35})\n",
    "\n",
    "#cols=['FEAC','F1','EAE','MNEAP','RMSE']\n",
    "cols=['F1','EAE','MNEAP','RMSE']\n",
    "\n",
    "ylabels=['[%]','[%]','[kWh]','[-]','[W]']\n",
    "labels=['FHMM-first', 'FHMM-mean' ,'FHMM-median']\n",
    "c=0\n",
    "\n",
    "for ax in fig.get_axes():\n",
    "    \n",
    "    df=pd.DataFrame([m['30min'][1][cols[c]],m['30min'][3][cols[c]],m['30min'][5][cols[c]]]).transpose()\n",
    "    #if ax==ax1:\n",
    "    #    df['FEAC'].mean().plot.barh(ax=ax1, width=0.7, edgecolor='black', linewidth=0.5, legend=False,   color=['greenyellow','darkorange','maroon'])\n",
    "    #else:\n",
    "    #     df.plot.bar(ax=ax, width=0.7, edgecolor='black', linewidth=0.5, legend=False,   color=['greenyellow','darkorange','maroon'])\n",
    " \n",
    "    df.plot.bar(ax=ax, width=0.7, edgecolor='black', linewidth=0.5, legend=False,   color=['greenyellow','darkorange','maroon'])\n",
    "    ax.set(ylabel=ylabels[c])\n",
    "    ax.grid(b=None)\n",
    "    c+=1   \n",
    "    \n",
    "\n",
    "ax2.set_xticklabels('')\n",
    "ax3.set_xticklabels('')\n",
    "ax4.set_xticklabels('')\n",
    "ax5.set_xticklabels(ax5.get_xticklabels(), rotation=0, fontdict={'fontsize':12})\n",
    "fig.align_ylabels([(ax1,ax2,ax3,ax4,ax5)])\n",
    "ax3.set_yticks([0,1,2,3,4])\n",
    "ax4.set(ylim=(0,1.8))\n",
    "ax4.set_yticks([0,0.5,1,1.5,2])\n",
    "ax5.set(ylim=(0,270))\n",
    "ax5.set_yticks([0,100,200,300])\n",
    "ax2.set_title('F1-Score', fontsize=11, loc='center')\n",
    "ax3.set_title('Error in Assigned Energy - EAE', fontsize=11, loc='center')\n",
    "ax4.set_title('Mean Normalised Error in Assigned Power - MNEAP', fontsize=11, loc='center')\n",
    "ax5.set_title('RMS Error in Assigned Power - RMSE', fontsize=11, loc='center')\n",
    "lgd = ax5.legend(labels, loc='lower center', ncol=3, bbox_to_anchor=(0.5, -0.8))\n",
    "\n",
    "\n",
    "plt.savefig('./data/images/5.8_All_metrics_2.svg', bbox_inches='tight', transparent=True)\n",
    "\n",
    "pass"
   ]
  },
  {
   "cell_type": "code",
   "execution_count": 230,
   "metadata": {},
   "outputs": [
    {
     "name": "stdout",
     "output_type": "stream",
     "text": [
      "FHMM-first\n",
      "                 F1  EAE     MNEAP       RMSE\n",
      "fan             0.0  0.0  0.754316  18.059046\n",
      "freezer         0.0  0.0  0.085598   1.813520\n",
      "television      0.0  0.0  0.085877   2.442577\n",
      "vacuum cleaner  0.0  0.0  0.133756  64.079620\n",
      "boiler          0.0  0.0  0.090013   0.247738\n",
      "\n",
      "FHMM-mean\n",
      "                 F1  EAE     MNEAP       RMSE\n",
      "fan             0.0  0.0  0.039303   0.940954\n",
      "freezer         0.0  0.0  0.244801   5.186480\n",
      "television      0.0  0.0  0.296829   8.442577\n",
      "vacuum cleaner  0.0  0.0  0.185939  89.079620\n",
      "boiler          0.0  0.0  0.090013   0.247738\n",
      "\n",
      "FHMM-median\n",
      "                 F1  EAE     MNEAP       RMSE\n",
      "fan             0.0  0.0  0.665845  15.940954\n",
      "freezer         0.0  0.0  1.000000  21.186480\n",
      "television      0.0  0.0  0.085877   2.442577\n",
      "vacuum cleaner  0.0  0.0  0.137930  66.079620\n",
      "boiler          0.0  0.0  0.090013   0.247738\n"
     ]
    }
   ],
   "source": [
    "print('FHMM-first')\n",
    "print(m['30min'][1])\n",
    "print('\\nFHMM-mean')\n",
    "print(m['30min'][3])\n",
    "print('\\nFHMM-median')\n",
    "print(m['30min'][5])"
   ]
  },
  {
   "cell_type": "markdown",
   "metadata": {},
   "source": [
    "### Resultados del mejor modelo\n",
    "En vista de los resultados del obtenidos, se propone la elección del modelo FHMM entrenado con datos promedio de dispositivos cada 10 minutos. Este modelo solo se considera adecuado para la desagregación de datos promedio de potencia activa medidos en cabecera cada 10 minutos."
   ]
  },
  {
   "cell_type": "code",
   "execution_count": 243,
   "metadata": {},
   "outputs": [
    {
     "data": {
      "image/png": "[encoded data removed]",
      "text/plain": [
       "<Figure size 720x576 with 4 Axes>"
      ]
     },
     "metadata": {
      "needs_background": "light"
     },
     "output_type": "display_data"
    }
   ],
   "source": [
    "rcParams['figure.figsize'] = (10, 8)\n",
    "\n",
    "fig, (ax2,ax3,ax4,ax5) = plt.subplots(4, 1, sharex=False, gridspec_kw={'hspace': 0.35})\n",
    "#cols=['FEAC','F1','EAE','MNEAP','RMSE']\n",
    "\n",
    "cols=['F1','F1','EAE','MNEAP','RMSE']\n",
    "\n",
    "ylabels=['[%]','[%]','[kWh]','[-]','[W]']\n",
    "colors=['tab:red','tab:blue','tab:orange','tab:green','tab:olive','tab:purple','tab:cyan']\n",
    "c=0\n",
    "\n",
    "for ax in fig.get_axes():\n",
    "    df=pd.DataFrame(m['30min'][4][cols[c]])\n",
    "    df[cols[c]].plot.bar(ax=ax, width=0.7, edgecolor='black', linewidth=0.5, legend=False, color=colors)\n",
    "    ax.set(ylabel=ylabels[c])\n",
    "    ax.grid(b=None)\n",
    "    c+=1\n",
    "\n",
    "\n",
    "ax2.set_xticklabels('')\n",
    "ax3.set_xticklabels('')\n",
    "ax4.set_xticklabels('')\n",
    "ax5.set_xticklabels(ax5.get_xticklabels(), rotation=0, fontdict={'fontsize':12})\n",
    "\n",
    "fig.align_ylabels([(ax2,ax3,ax4,ax5)])\n",
    "\n",
    "ax2.set(ylim=(0,125))\n",
    "ax3.set(ylim=(0,1))\n",
    "ax4.set(ylim=(0,0.7))\n",
    "ax5.set(ylim=(0,110))\n",
    "\n",
    "ax2.set_yticks([0,25,50,75,100])\n",
    "ax3.set_yticks([0,1,2,3])\n",
    "ax4.set_yticks([0,1,2,3,4])\n",
    "ax5.set_yticks([0,50,100,150,200])\n",
    "\n",
    "\n",
    "ax2.set_title('F1-Score', fontsize=11, loc='center')\n",
    "ax3.set_title('Error in Assigned Energy - EAE', fontsize=11, loc='center')\n",
    "ax4.set_title('Mean Normalised Error in Assigned Power - MNEAP', fontsize=11, loc='center')\n",
    "ax5.set_title('RMS Error in Assigned Power - RMSE', fontsize=11, loc='center')\n",
    "\n",
    "df=pd.DataFrame(m['30min'][5])\n",
    "\n",
    "for x in range(5):ax2.annotate(str(round(df['F1'][x],1))+'%', xy=(x-0.18 , df['F1'][x]+4),fontsize=9.5)\n",
    "for x in range(5):ax3.annotate(str(round(df['EAE'][x],1))+' kWh', xy=(x-0.25 , df['EAE'][x]+0.1),fontsize=9.5)\n",
    "for x in range(5):ax4.annotate(str(round(df['MNEAP'][x],1)), xy=(x-0.08 , df['MNEAP'][x]+0.03),fontsize=9.5)\n",
    "for x in range(5):ax5.annotate(str(round(df['RMSE'][x]))+' W', xy=(x-0.18 , df['RMSE'][x]+5),fontsize=9.5)\n",
    "\n",
    "plt.savefig('./data/images/5.9_Metrics_FHMM_30min_median.svg', bbox_inches='tight', transparent=True)"
   ]
  },
  {
   "cell_type": "code",
   "execution_count": 174,
   "metadata": {},
   "outputs": [
    {
     "name": "stdout",
     "output_type": "stream",
     "text": [
      "Calculating total_energy for ElecMeterID(instance=6, building=1, dataset='DSUAL') ...   "
     ]
    },
    {
     "data": {
      "text/plain": [
       "reactive     0.024328\n",
       "active       0.440416\n",
       "apparent    15.427855\n",
       "dtype: float64"
      ]
     },
     "execution_count": 174,
     "metadata": {},
     "output_type": "execute_result"
    }
   ],
   "source": [
    "valid_Devices.total_energy()"
   ]
  },
  {
   "cell_type": "code",
   "execution_count": 175,
   "metadata": {},
   "outputs": [
    {
     "name": "stdout",
     "output_type": "stream",
     "text": [
      "5/5 ElecMeter(instance=6, building=1, dataset='DSUAL', appliances=[Appliance(type='boiler', instance=1)])nce=1)])"
     ]
    },
    {
     "data": {
      "text/html": [
       "<div>\n",
       "<style scoped>\n",
       "    .dataframe tbody tr th:only-of-type {\n",
       "        vertical-align: middle;\n",
       "    }\n",
       "\n",
       "    .dataframe tbody tr th {\n",
       "        vertical-align: top;\n",
       "    }\n",
       "\n",
       "    .dataframe thead th {\n",
       "        text-align: right;\n",
       "    }\n",
       "</style>\n",
       "<table border=\"1\" class=\"dataframe\">\n",
       "  <thead>\n",
       "    <tr style=\"text-align: right;\">\n",
       "      <th></th>\n",
       "      <th>(2, 1, DSUAL)</th>\n",
       "      <th>(3, 1, DSUAL)</th>\n",
       "      <th>(4, 1, DSUAL)</th>\n",
       "      <th>(5, 1, DSUAL)</th>\n",
       "      <th>(6, 1, DSUAL)</th>\n",
       "    </tr>\n",
       "  </thead>\n",
       "  <tbody>\n",
       "    <tr>\n",
       "      <th>active</th>\n",
       "      <td>0.022232</td>\n",
       "      <td>0.016073</td>\n",
       "      <td>0.019346</td>\n",
       "      <td>0.380146</td>\n",
       "      <td>0.002619</td>\n",
       "    </tr>\n",
       "    <tr>\n",
       "      <th>apparent</th>\n",
       "      <td>NaN</td>\n",
       "      <td>NaN</td>\n",
       "      <td>NaN</td>\n",
       "      <td>NaN</td>\n",
       "      <td>NaN</td>\n",
       "    </tr>\n",
       "    <tr>\n",
       "      <th>reactive</th>\n",
       "      <td>NaN</td>\n",
       "      <td>NaN</td>\n",
       "      <td>NaN</td>\n",
       "      <td>NaN</td>\n",
       "      <td>NaN</td>\n",
       "    </tr>\n",
       "  </tbody>\n",
       "</table>\n",
       "</div>"
      ],
      "text/plain": [
       "          (2, 1, DSUAL)  (3, 1, DSUAL)  (4, 1, DSUAL)  (5, 1, DSUAL)  \\\n",
       "active         0.022232       0.016073       0.019346       0.380146   \n",
       "apparent            NaN            NaN            NaN            NaN   \n",
       "reactive            NaN            NaN            NaN            NaN   \n",
       "\n",
       "          (6, 1, DSUAL)  \n",
       "active         0.002619  \n",
       "apparent            NaN  \n",
       "reactive            NaN  "
      ]
     },
     "execution_count": 175,
     "metadata": {},
     "output_type": "execute_result"
    }
   ],
   "source": [
    "valid_Devices.energy_per_meter()"
   ]
  },
  {
   "cell_type": "markdown",
   "metadata": {},
   "source": [
    "### Replicando el entrenamiento del modelo"
   ]
  },
  {
   "cell_type": "code",
   "execution_count": 181,
   "metadata": {},
   "outputs": [
    {
     "name": "stdout",
     "output_type": "stream",
     "text": [
      "Training model for submeter 'ElecMeter(instance=2, building=1, dataset='DSUAL', appliances=[Appliance(type='fan', instance=1)])' with 1 states\n",
      "Training model for submeter 'ElecMeter(instance=3, building=1, dataset='DSUAL', appliances=[Appliance(type='freezer', instance=1)])' with 1 states\n",
      "Training model for submeter 'ElecMeter(instance=4, building=1, dataset='DSUAL', appliances=[Appliance(type='television', instance=1)])' with 1 states\n",
      "Training model for submeter 'ElecMeter(instance=5, building=1, dataset='DSUAL', appliances=[Appliance(type='vacuum cleaner', instance=1)])' with 1 states\n",
      "Training model for submeter 'ElecMeter(instance=6, building=1, dataset='DSUAL', appliances=[Appliance(type='boiler', instance=1)])' with 1 states\n",
      "\n",
      "\n",
      "Done!\n"
     ]
    }
   ],
   "source": [
    "from nilmtk import DataSet\n",
    "from nilmtk.legacy.disaggregate import FHMM\n",
    "\n",
    "\n",
    "train = DataSet('dsual.h5')\n",
    "\n",
    "train.set_window(start=\"2022-02-02 00:00:00\", end=\"2022-02-03 23:59:59\")\n",
    "train_elec=train.buildings[1].elec \n",
    "\n",
    "#dispositivos a entrenar: [Lights_1, Lights_2, HVAC_1, HVAC_2, HVAC_4, Rack]\n",
    "train_Devices=train_elec.select(instance=[2,3,4,5,6])\n",
    "\n",
    "#opcional: asignación manual de estados de dispositivos\n",
    "num_states={train_Devices[2]:2, train_Devices[3]:3, train_Devices[4]:4,\n",
    "            train_Devices[5]:5, train_Devices[6]:6}\n",
    "\n",
    "#entrenamiento y exportación del modelo\n",
    "FHMM_30min_median=FHMM()\n",
    "FHMM_30min_median.MIN_CHUNK_LENGTH=1\n",
    "FHMM_30min_median.train(train_Devices,\n",
    "                        num_states_dict={}, #en otro caso: { }\n",
    "                        ac_type='active',\n",
    "                        sample_period=1800,\n",
    "                        resample_kwargs={'how':'median'})\n",
    "\n",
    "\n",
    "#falla aqui al exportar el modelo\n",
    "#FHMM_30min_median.export_model('./data/FHMM_30min_median_model.pickle') \n",
    "\n",
    "#output=HDFDataStore(data_dir+'NILM/Results/'+model_name+'_'+sp_name+'_'+method+'_pred.h5', 'w')\n",
    "           \n",
    "print('\\n\\nDone!')\n"
   ]
  },
  {
   "cell_type": "code",
   "execution_count": 192,
   "metadata": {},
   "outputs": [
    {
     "name": "stdout",
     "output_type": "stream",
     "text": [
      "Fan: [[15.46036704]]\n",
      "Freezer: [[24.91519969]]\n",
      "Television: [[31.16739178]]\n",
      "Vacuum Cleaner: [[406.96991714]]\n",
      "Boile: [[747.09738759]]\n"
     ]
    }
   ],
   "source": [
    "from nilmtk.legacy.disaggregate import FHMM\n",
    "FHMM=FHMM()\n",
    "#FHMM.import_model('C:/data/FHMM_30min_median_model.pickle') \n",
    "print('Fan: '+str(FHMM_30min_median.individual[valid_Devices[2]].means_))\n",
    "print('Freezer: '+str(FHMM_30min_median.individual[valid_Devices[3]].means_))\n",
    "print('Television: '+str(FHMM_30min_median.individual[valid_Devices[4]].means_))\n",
    "print('Vacuum Cleaner: '+str(FHMM_30min_median.individual[valid_Devices[5]].means_))\n",
    "print('Boile: '+str(FHMM_30min_median.individual[valid_Devices[6]].means_))\n"
   ]
  },
  {
   "cell_type": "code",
   "execution_count": 193,
   "metadata": {},
   "outputs": [
    {
     "data": {
      "text/plain": [
       "GaussianHMM(covariance_type='full')"
      ]
     },
     "execution_count": 193,
     "metadata": {},
     "output_type": "execute_result"
    }
   ],
   "source": [
    "FHMM_30min_median.model"
   ]
  },
  {
   "cell_type": "code",
   "execution_count": 194,
   "metadata": {},
   "outputs": [
    {
     "data": {
      "text/plain": [
       "OrderedDict([(ElecMeter(instance=2, building=1, dataset='DSUAL', appliances=[Appliance(type='fan', instance=1)]),\n",
       "              GaussianHMM(covariance_type='full')),\n",
       "             (ElecMeter(instance=3, building=1, dataset='DSUAL', appliances=[Appliance(type='freezer', instance=1)]),\n",
       "              GaussianHMM(covariance_type='full')),\n",
       "             (ElecMeter(instance=4, building=1, dataset='DSUAL', appliances=[Appliance(type='television', instance=1)]),\n",
       "              GaussianHMM(covariance_type='full')),\n",
       "             (ElecMeter(instance=5, building=1, dataset='DSUAL', appliances=[Appliance(type='vacuum cleaner', instance=1)]),\n",
       "              GaussianHMM(covariance_type='full')),\n",
       "             (ElecMeter(instance=6, building=1, dataset='DSUAL', appliances=[Appliance(type='boiler', instance=1)]),\n",
       "              GaussianHMM(covariance_type='full'))])"
      ]
     },
     "execution_count": 194,
     "metadata": {},
     "output_type": "execute_result"
    }
   ],
   "source": [
    "FHMM_30min_median.individual"
   ]
  },
  {
   "cell_type": "code",
   "execution_count": null,
   "metadata": {},
   "outputs": [],
   "source": []
  }
 ],
 "metadata": {
  "kernelspec": {
   "display_name": "Python 3",
   "language": "python",
   "name": "python3"
  },
  "language_info": {
   "codemirror_mode": {
    "name": "ipython",
    "version": 3
   },
   "file_extension": ".py",
   "mimetype": "text/x-python",
   "name": "python",
   "nbconvert_exporter": "python",
   "pygments_lexer": "ipython3",
   "version": "3.6.13"
  }
 },
 "nbformat": 4,
 "nbformat_minor": 4
}
